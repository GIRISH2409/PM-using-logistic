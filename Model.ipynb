{
  "nbformat": 4,
  "nbformat_minor": 0,
  "metadata": {
    "colab": {
      "name": "Model.ipynb",
      "provenance": [],
      "authorship_tag": "ABX9TyPXjdqQGP46N97n/5CYkUmN",
      "include_colab_link": true
    },
    "kernelspec": {
      "name": "python3",
      "display_name": "Python 3"
    },
    "language_info": {
      "name": "python"
    }
  },
  "cells": [
    {
      "cell_type": "markdown",
      "metadata": {
        "id": "view-in-github",
        "colab_type": "text"
      },
      "source": [
        "<a href=\"https://colab.research.google.com/github/GIRISH2409/PM-using-logistic/blob/main/Model.ipynb\" target=\"_parent\"><img src=\"https://colab.research.google.com/assets/colab-badge.svg\" alt=\"Open In Colab\"/></a>"
      ]
    },
    {
      "cell_type": "code",
      "metadata": {
        "colab": {
          "base_uri": "https://localhost:8080/",
          "height": 1000
        },
        "id": "94fNyq2VxuvR",
        "outputId": "74f2b7ad-a6fa-44d2-9f44-744d9e1a8af7"
      },
      "source": [
        "\n",
        "import pandas as pd\n",
        "import numpy as np\n",
        "import matplotlib.pyplot as plt\n",
        "import seaborn as sns\n",
        "%matplotlib inline\n",
        "train = pd.read_csv('/content/train.csv', index_col = 0 )\n",
        "train.head(15)"
      ],
      "execution_count": 20,
      "outputs": [
        {
          "output_type": "execute_result",
          "data": {
            "text/html": [
              "<div>\n",
              "<style scoped>\n",
              "    .dataframe tbody tr th:only-of-type {\n",
              "        vertical-align: middle;\n",
              "    }\n",
              "\n",
              "    .dataframe tbody tr th {\n",
              "        vertical-align: top;\n",
              "    }\n",
              "\n",
              "    .dataframe thead th {\n",
              "        text-align: right;\n",
              "    }\n",
              "</style>\n",
              "<table border=\"1\" class=\"dataframe\">\n",
              "  <thead>\n",
              "    <tr style=\"text-align: right;\">\n",
              "      <th></th>\n",
              "      <th>Date</th>\n",
              "      <th>Temperature</th>\n",
              "      <th>Humidity</th>\n",
              "      <th>Operator</th>\n",
              "      <th>Measure1</th>\n",
              "      <th>Measure2</th>\n",
              "      <th>Measure3</th>\n",
              "      <th>Measure4</th>\n",
              "      <th>Measure5</th>\n",
              "      <th>Measure6</th>\n",
              "      <th>Measure7</th>\n",
              "      <th>Measure8</th>\n",
              "      <th>Measure9</th>\n",
              "      <th>Measure10</th>\n",
              "      <th>Measure11</th>\n",
              "      <th>Measure12</th>\n",
              "      <th>Measure13</th>\n",
              "      <th>Measure14</th>\n",
              "      <th>Measure15</th>\n",
              "      <th>Hours Since Previous Failure</th>\n",
              "      <th>Failure</th>\n",
              "      <th>?Date.year</th>\n",
              "      <th>?Date.month</th>\n",
              "      <th>?Date.day-of-month</th>\n",
              "      <th>?Date.day-of-week</th>\n",
              "      <th>?Date.hour</th>\n",
              "      <th>?Date.minute</th>\n",
              "      <th>?Date.second</th>\n",
              "    </tr>\n",
              "    <tr>\n",
              "      <th>ID</th>\n",
              "      <th></th>\n",
              "      <th></th>\n",
              "      <th></th>\n",
              "      <th></th>\n",
              "      <th></th>\n",
              "      <th></th>\n",
              "      <th></th>\n",
              "      <th></th>\n",
              "      <th></th>\n",
              "      <th></th>\n",
              "      <th></th>\n",
              "      <th></th>\n",
              "      <th></th>\n",
              "      <th></th>\n",
              "      <th></th>\n",
              "      <th></th>\n",
              "      <th></th>\n",
              "      <th></th>\n",
              "      <th></th>\n",
              "      <th></th>\n",
              "      <th></th>\n",
              "      <th></th>\n",
              "      <th></th>\n",
              "      <th></th>\n",
              "      <th></th>\n",
              "      <th></th>\n",
              "      <th></th>\n",
              "      <th></th>\n",
              "    </tr>\n",
              "  </thead>\n",
              "  <tbody>\n",
              "    <tr>\n",
              "      <th>1</th>\n",
              "      <td>01-01-2016 00:00</td>\n",
              "      <td>67</td>\n",
              "      <td>82</td>\n",
              "      <td>Operator1</td>\n",
              "      <td>291</td>\n",
              "      <td>1</td>\n",
              "      <td>1</td>\n",
              "      <td>1041</td>\n",
              "      <td>846</td>\n",
              "      <td>334</td>\n",
              "      <td>706</td>\n",
              "      <td>1086</td>\n",
              "      <td>256</td>\n",
              "      <td>1295</td>\n",
              "      <td>766</td>\n",
              "      <td>968</td>\n",
              "      <td>1185</td>\n",
              "      <td>1355</td>\n",
              "      <td>1842</td>\n",
              "      <td>90</td>\n",
              "      <td>No</td>\n",
              "      <td>2016</td>\n",
              "      <td>1</td>\n",
              "      <td>1</td>\n",
              "      <td>5</td>\n",
              "      <td>0</td>\n",
              "      <td>0</td>\n",
              "      <td>0</td>\n",
              "    </tr>\n",
              "    <tr>\n",
              "      <th>2</th>\n",
              "      <td>01-01-2016 01:00</td>\n",
              "      <td>68</td>\n",
              "      <td>77</td>\n",
              "      <td>Operator1</td>\n",
              "      <td>1180</td>\n",
              "      <td>1</td>\n",
              "      <td>1</td>\n",
              "      <td>1915</td>\n",
              "      <td>1194</td>\n",
              "      <td>637</td>\n",
              "      <td>1093</td>\n",
              "      <td>524</td>\n",
              "      <td>919</td>\n",
              "      <td>245</td>\n",
              "      <td>403</td>\n",
              "      <td>723</td>\n",
              "      <td>1446</td>\n",
              "      <td>719</td>\n",
              "      <td>748</td>\n",
              "      <td>91</td>\n",
              "      <td>No</td>\n",
              "      <td>2016</td>\n",
              "      <td>1</td>\n",
              "      <td>1</td>\n",
              "      <td>5</td>\n",
              "      <td>1</td>\n",
              "      <td>0</td>\n",
              "      <td>0</td>\n",
              "    </tr>\n",
              "    <tr>\n",
              "      <th>3</th>\n",
              "      <td>01-01-2016 02:00</td>\n",
              "      <td>64</td>\n",
              "      <td>76</td>\n",
              "      <td>Operator1</td>\n",
              "      <td>1406</td>\n",
              "      <td>1</td>\n",
              "      <td>1</td>\n",
              "      <td>511</td>\n",
              "      <td>1577</td>\n",
              "      <td>1121</td>\n",
              "      <td>1948</td>\n",
              "      <td>1882</td>\n",
              "      <td>1301</td>\n",
              "      <td>273</td>\n",
              "      <td>1927</td>\n",
              "      <td>1123</td>\n",
              "      <td>717</td>\n",
              "      <td>1518</td>\n",
              "      <td>1689</td>\n",
              "      <td>92</td>\n",
              "      <td>No</td>\n",
              "      <td>2016</td>\n",
              "      <td>1</td>\n",
              "      <td>1</td>\n",
              "      <td>5</td>\n",
              "      <td>2</td>\n",
              "      <td>0</td>\n",
              "      <td>0</td>\n",
              "    </tr>\n",
              "    <tr>\n",
              "      <th>4</th>\n",
              "      <td>01-01-2016 03:00</td>\n",
              "      <td>63</td>\n",
              "      <td>80</td>\n",
              "      <td>Operator1</td>\n",
              "      <td>550</td>\n",
              "      <td>1</td>\n",
              "      <td>1</td>\n",
              "      <td>1754</td>\n",
              "      <td>1834</td>\n",
              "      <td>1413</td>\n",
              "      <td>1151</td>\n",
              "      <td>945</td>\n",
              "      <td>1312</td>\n",
              "      <td>1494</td>\n",
              "      <td>1755</td>\n",
              "      <td>1434</td>\n",
              "      <td>502</td>\n",
              "      <td>1336</td>\n",
              "      <td>711</td>\n",
              "      <td>93</td>\n",
              "      <td>No</td>\n",
              "      <td>2016</td>\n",
              "      <td>1</td>\n",
              "      <td>1</td>\n",
              "      <td>5</td>\n",
              "      <td>3</td>\n",
              "      <td>0</td>\n",
              "      <td>0</td>\n",
              "    </tr>\n",
              "    <tr>\n",
              "      <th>5</th>\n",
              "      <td>01-01-2016 04:00</td>\n",
              "      <td>65</td>\n",
              "      <td>81</td>\n",
              "      <td>Operator1</td>\n",
              "      <td>1928</td>\n",
              "      <td>1</td>\n",
              "      <td>2</td>\n",
              "      <td>1326</td>\n",
              "      <td>1082</td>\n",
              "      <td>233</td>\n",
              "      <td>1441</td>\n",
              "      <td>1736</td>\n",
              "      <td>1033</td>\n",
              "      <td>1549</td>\n",
              "      <td>802</td>\n",
              "      <td>1819</td>\n",
              "      <td>1616</td>\n",
              "      <td>1507</td>\n",
              "      <td>507</td>\n",
              "      <td>94</td>\n",
              "      <td>No</td>\n",
              "      <td>2016</td>\n",
              "      <td>1</td>\n",
              "      <td>1</td>\n",
              "      <td>5</td>\n",
              "      <td>4</td>\n",
              "      <td>0</td>\n",
              "      <td>0</td>\n",
              "    </tr>\n",
              "    <tr>\n",
              "      <th>6</th>\n",
              "      <td>01-01-2016 05:00</td>\n",
              "      <td>67</td>\n",
              "      <td>84</td>\n",
              "      <td>Operator1</td>\n",
              "      <td>398</td>\n",
              "      <td>1</td>\n",
              "      <td>2</td>\n",
              "      <td>1901</td>\n",
              "      <td>1801</td>\n",
              "      <td>1153</td>\n",
              "      <td>1085</td>\n",
              "      <td>1547</td>\n",
              "      <td>2005</td>\n",
              "      <td>477</td>\n",
              "      <td>1217</td>\n",
              "      <td>1632</td>\n",
              "      <td>1324</td>\n",
              "      <td>1854</td>\n",
              "      <td>1739</td>\n",
              "      <td>95</td>\n",
              "      <td>No</td>\n",
              "      <td>2016</td>\n",
              "      <td>1</td>\n",
              "      <td>1</td>\n",
              "      <td>5</td>\n",
              "      <td>5</td>\n",
              "      <td>0</td>\n",
              "      <td>0</td>\n",
              "    </tr>\n",
              "    <tr>\n",
              "      <th>7</th>\n",
              "      <td>01-01-2016 06:00</td>\n",
              "      <td>67</td>\n",
              "      <td>83</td>\n",
              "      <td>Operator1</td>\n",
              "      <td>847</td>\n",
              "      <td>0</td>\n",
              "      <td>2</td>\n",
              "      <td>1849</td>\n",
              "      <td>1141</td>\n",
              "      <td>1609</td>\n",
              "      <td>982</td>\n",
              "      <td>1159</td>\n",
              "      <td>672</td>\n",
              "      <td>1128</td>\n",
              "      <td>663</td>\n",
              "      <td>1114</td>\n",
              "      <td>1838</td>\n",
              "      <td>290</td>\n",
              "      <td>1192</td>\n",
              "      <td>96</td>\n",
              "      <td>No</td>\n",
              "      <td>2016</td>\n",
              "      <td>1</td>\n",
              "      <td>1</td>\n",
              "      <td>5</td>\n",
              "      <td>6</td>\n",
              "      <td>0</td>\n",
              "      <td>0</td>\n",
              "    </tr>\n",
              "    <tr>\n",
              "      <th>8</th>\n",
              "      <td>01-01-2016 07:00</td>\n",
              "      <td>67</td>\n",
              "      <td>76</td>\n",
              "      <td>Operator1</td>\n",
              "      <td>1021</td>\n",
              "      <td>2</td>\n",
              "      <td>1</td>\n",
              "      <td>185</td>\n",
              "      <td>170</td>\n",
              "      <td>952</td>\n",
              "      <td>1183</td>\n",
              "      <td>1329</td>\n",
              "      <td>427</td>\n",
              "      <td>1638</td>\n",
              "      <td>850</td>\n",
              "      <td>379</td>\n",
              "      <td>1529</td>\n",
              "      <td>755</td>\n",
              "      <td>844</td>\n",
              "      <td>97</td>\n",
              "      <td>No</td>\n",
              "      <td>2016</td>\n",
              "      <td>1</td>\n",
              "      <td>1</td>\n",
              "      <td>5</td>\n",
              "      <td>7</td>\n",
              "      <td>0</td>\n",
              "      <td>0</td>\n",
              "    </tr>\n",
              "    <tr>\n",
              "      <th>9</th>\n",
              "      <td>01-01-2016 08:00</td>\n",
              "      <td>65</td>\n",
              "      <td>80</td>\n",
              "      <td>Operator3</td>\n",
              "      <td>1731</td>\n",
              "      <td>2</td>\n",
              "      <td>0</td>\n",
              "      <td>1424</td>\n",
              "      <td>1176</td>\n",
              "      <td>1223</td>\n",
              "      <td>621</td>\n",
              "      <td>647</td>\n",
              "      <td>369</td>\n",
              "      <td>239</td>\n",
              "      <td>1196</td>\n",
              "      <td>1944</td>\n",
              "      <td>1583</td>\n",
              "      <td>1630</td>\n",
              "      <td>237</td>\n",
              "      <td>98</td>\n",
              "      <td>No</td>\n",
              "      <td>2016</td>\n",
              "      <td>1</td>\n",
              "      <td>1</td>\n",
              "      <td>5</td>\n",
              "      <td>8</td>\n",
              "      <td>0</td>\n",
              "      <td>0</td>\n",
              "    </tr>\n",
              "    <tr>\n",
              "      <th>10</th>\n",
              "      <td>01-01-2016 09:00</td>\n",
              "      <td>63</td>\n",
              "      <td>80</td>\n",
              "      <td>Operator3</td>\n",
              "      <td>415</td>\n",
              "      <td>0</td>\n",
              "      <td>0</td>\n",
              "      <td>1008</td>\n",
              "      <td>1086</td>\n",
              "      <td>1759</td>\n",
              "      <td>1946</td>\n",
              "      <td>1814</td>\n",
              "      <td>1754</td>\n",
              "      <td>1442</td>\n",
              "      <td>341</td>\n",
              "      <td>1097</td>\n",
              "      <td>1819</td>\n",
              "      <td>472</td>\n",
              "      <td>491</td>\n",
              "      <td>99</td>\n",
              "      <td>No</td>\n",
              "      <td>2016</td>\n",
              "      <td>1</td>\n",
              "      <td>1</td>\n",
              "      <td>5</td>\n",
              "      <td>9</td>\n",
              "      <td>0</td>\n",
              "      <td>0</td>\n",
              "    </tr>\n",
              "    <tr>\n",
              "      <th>11</th>\n",
              "      <td>01-01-2016 10:00</td>\n",
              "      <td>61</td>\n",
              "      <td>83</td>\n",
              "      <td>Operator3</td>\n",
              "      <td>525</td>\n",
              "      <td>2</td>\n",
              "      <td>2</td>\n",
              "      <td>603</td>\n",
              "      <td>1630</td>\n",
              "      <td>1740</td>\n",
              "      <td>583</td>\n",
              "      <td>646</td>\n",
              "      <td>319</td>\n",
              "      <td>933</td>\n",
              "      <td>1891</td>\n",
              "      <td>1371</td>\n",
              "      <td>1904</td>\n",
              "      <td>1586</td>\n",
              "      <td>1102</td>\n",
              "      <td>100</td>\n",
              "      <td>No</td>\n",
              "      <td>2016</td>\n",
              "      <td>1</td>\n",
              "      <td>1</td>\n",
              "      <td>5</td>\n",
              "      <td>10</td>\n",
              "      <td>0</td>\n",
              "      <td>0</td>\n",
              "    </tr>\n",
              "    <tr>\n",
              "      <th>12</th>\n",
              "      <td>01-01-2016 11:00</td>\n",
              "      <td>62</td>\n",
              "      <td>81</td>\n",
              "      <td>Operator3</td>\n",
              "      <td>1719</td>\n",
              "      <td>3</td>\n",
              "      <td>1</td>\n",
              "      <td>880</td>\n",
              "      <td>575</td>\n",
              "      <td>1722</td>\n",
              "      <td>952</td>\n",
              "      <td>890</td>\n",
              "      <td>669</td>\n",
              "      <td>782</td>\n",
              "      <td>1720</td>\n",
              "      <td>641</td>\n",
              "      <td>1620</td>\n",
              "      <td>1046</td>\n",
              "      <td>1759</td>\n",
              "      <td>101</td>\n",
              "      <td>No</td>\n",
              "      <td>2016</td>\n",
              "      <td>1</td>\n",
              "      <td>1</td>\n",
              "      <td>5</td>\n",
              "      <td>11</td>\n",
              "      <td>0</td>\n",
              "      <td>0</td>\n",
              "    </tr>\n",
              "    <tr>\n",
              "      <th>13</th>\n",
              "      <td>01-01-2016 12:00</td>\n",
              "      <td>62</td>\n",
              "      <td>76</td>\n",
              "      <td>Operator3</td>\n",
              "      <td>1116</td>\n",
              "      <td>0</td>\n",
              "      <td>0</td>\n",
              "      <td>588</td>\n",
              "      <td>166</td>\n",
              "      <td>1233</td>\n",
              "      <td>1362</td>\n",
              "      <td>322</td>\n",
              "      <td>1176</td>\n",
              "      <td>1669</td>\n",
              "      <td>1197</td>\n",
              "      <td>182</td>\n",
              "      <td>1641</td>\n",
              "      <td>1033</td>\n",
              "      <td>1427</td>\n",
              "      <td>102</td>\n",
              "      <td>No</td>\n",
              "      <td>2016</td>\n",
              "      <td>1</td>\n",
              "      <td>1</td>\n",
              "      <td>5</td>\n",
              "      <td>12</td>\n",
              "      <td>0</td>\n",
              "      <td>0</td>\n",
              "    </tr>\n",
              "    <tr>\n",
              "      <th>14</th>\n",
              "      <td>01-01-2016 13:00</td>\n",
              "      <td>60</td>\n",
              "      <td>82</td>\n",
              "      <td>Operator3</td>\n",
              "      <td>282</td>\n",
              "      <td>1</td>\n",
              "      <td>1</td>\n",
              "      <td>1406</td>\n",
              "      <td>1727</td>\n",
              "      <td>945</td>\n",
              "      <td>1631</td>\n",
              "      <td>714</td>\n",
              "      <td>1072</td>\n",
              "      <td>1051</td>\n",
              "      <td>1857</td>\n",
              "      <td>559</td>\n",
              "      <td>1309</td>\n",
              "      <td>1668</td>\n",
              "      <td>1453</td>\n",
              "      <td>103</td>\n",
              "      <td>No</td>\n",
              "      <td>2016</td>\n",
              "      <td>1</td>\n",
              "      <td>1</td>\n",
              "      <td>5</td>\n",
              "      <td>13</td>\n",
              "      <td>0</td>\n",
              "      <td>0</td>\n",
              "    </tr>\n",
              "    <tr>\n",
              "      <th>15</th>\n",
              "      <td>01-01-2016 14:00</td>\n",
              "      <td>61</td>\n",
              "      <td>79</td>\n",
              "      <td>Operator3</td>\n",
              "      <td>637</td>\n",
              "      <td>3</td>\n",
              "      <td>0</td>\n",
              "      <td>821</td>\n",
              "      <td>511</td>\n",
              "      <td>373</td>\n",
              "      <td>951</td>\n",
              "      <td>1151</td>\n",
              "      <td>1200</td>\n",
              "      <td>493</td>\n",
              "      <td>770</td>\n",
              "      <td>1781</td>\n",
              "      <td>1437</td>\n",
              "      <td>1978</td>\n",
              "      <td>1911</td>\n",
              "      <td>104</td>\n",
              "      <td>No</td>\n",
              "      <td>2016</td>\n",
              "      <td>1</td>\n",
              "      <td>1</td>\n",
              "      <td>5</td>\n",
              "      <td>14</td>\n",
              "      <td>0</td>\n",
              "      <td>0</td>\n",
              "    </tr>\n",
              "  </tbody>\n",
              "</table>\n",
              "</div>"
            ],
            "text/plain": [
              "                Date  Temperature  ...  ?Date.minute ?Date.second\n",
              "ID                                 ...                           \n",
              "1   01-01-2016 00:00           67  ...             0            0\n",
              "2   01-01-2016 01:00           68  ...             0            0\n",
              "3   01-01-2016 02:00           64  ...             0            0\n",
              "4   01-01-2016 03:00           63  ...             0            0\n",
              "5   01-01-2016 04:00           65  ...             0            0\n",
              "6   01-01-2016 05:00           67  ...             0            0\n",
              "7   01-01-2016 06:00           67  ...             0            0\n",
              "8   01-01-2016 07:00           67  ...             0            0\n",
              "9   01-01-2016 08:00           65  ...             0            0\n",
              "10  01-01-2016 09:00           63  ...             0            0\n",
              "11  01-01-2016 10:00           61  ...             0            0\n",
              "12  01-01-2016 11:00           62  ...             0            0\n",
              "13  01-01-2016 12:00           62  ...             0            0\n",
              "14  01-01-2016 13:00           60  ...             0            0\n",
              "15  01-01-2016 14:00           61  ...             0            0\n",
              "\n",
              "[15 rows x 28 columns]"
            ]
          },
          "metadata": {},
          "execution_count": 20
        }
      ]
    },
    {
      "cell_type": "code",
      "metadata": {
        "colab": {
          "base_uri": "https://localhost:8080/",
          "height": 372
        },
        "id": "vtw1XMXhyl5C",
        "outputId": "fb414ec7-fd1b-4047-8b5e-d640b177adca"
      },
      "source": [
        "train.describe()"
      ],
      "execution_count": 21,
      "outputs": [
        {
          "output_type": "execute_result",
          "data": {
            "text/html": [
              "<div>\n",
              "<style scoped>\n",
              "    .dataframe tbody tr th:only-of-type {\n",
              "        vertical-align: middle;\n",
              "    }\n",
              "\n",
              "    .dataframe tbody tr th {\n",
              "        vertical-align: top;\n",
              "    }\n",
              "\n",
              "    .dataframe thead th {\n",
              "        text-align: right;\n",
              "    }\n",
              "</style>\n",
              "<table border=\"1\" class=\"dataframe\">\n",
              "  <thead>\n",
              "    <tr style=\"text-align: right;\">\n",
              "      <th></th>\n",
              "      <th>Temperature</th>\n",
              "      <th>Humidity</th>\n",
              "      <th>Measure1</th>\n",
              "      <th>Measure2</th>\n",
              "      <th>Measure3</th>\n",
              "      <th>Measure4</th>\n",
              "      <th>Measure5</th>\n",
              "      <th>Measure6</th>\n",
              "      <th>Measure7</th>\n",
              "      <th>Measure8</th>\n",
              "      <th>Measure9</th>\n",
              "      <th>Measure10</th>\n",
              "      <th>Measure11</th>\n",
              "      <th>Measure12</th>\n",
              "      <th>Measure13</th>\n",
              "      <th>Measure14</th>\n",
              "      <th>Measure15</th>\n",
              "      <th>Hours Since Previous Failure</th>\n",
              "      <th>?Date.year</th>\n",
              "      <th>?Date.month</th>\n",
              "      <th>?Date.day-of-month</th>\n",
              "      <th>?Date.day-of-week</th>\n",
              "      <th>?Date.hour</th>\n",
              "      <th>?Date.minute</th>\n",
              "      <th>?Date.second</th>\n",
              "    </tr>\n",
              "  </thead>\n",
              "  <tbody>\n",
              "    <tr>\n",
              "      <th>count</th>\n",
              "      <td>7905.000000</td>\n",
              "      <td>7905.000000</td>\n",
              "      <td>7905.000000</td>\n",
              "      <td>7905.000000</td>\n",
              "      <td>7905.000000</td>\n",
              "      <td>7905.000000</td>\n",
              "      <td>7905.000000</td>\n",
              "      <td>7905.000000</td>\n",
              "      <td>7905.000000</td>\n",
              "      <td>7905.000000</td>\n",
              "      <td>7905.000000</td>\n",
              "      <td>7905.000000</td>\n",
              "      <td>7905.000000</td>\n",
              "      <td>7905.000000</td>\n",
              "      <td>7905.000000</td>\n",
              "      <td>7905.000000</td>\n",
              "      <td>7905.000000</td>\n",
              "      <td>7905.000000</td>\n",
              "      <td>7905.0</td>\n",
              "      <td>7905.000000</td>\n",
              "      <td>7905.000000</td>\n",
              "      <td>7905.000000</td>\n",
              "      <td>7905.000000</td>\n",
              "      <td>7905.0</td>\n",
              "      <td>7905.0</td>\n",
              "    </tr>\n",
              "    <tr>\n",
              "      <th>mean</th>\n",
              "      <td>64.031499</td>\n",
              "      <td>83.708412</td>\n",
              "      <td>1093.461354</td>\n",
              "      <td>1.488931</td>\n",
              "      <td>1.002277</td>\n",
              "      <td>1068.775206</td>\n",
              "      <td>1075.298166</td>\n",
              "      <td>1077.784187</td>\n",
              "      <td>1089.264263</td>\n",
              "      <td>1076.061607</td>\n",
              "      <td>1081.998229</td>\n",
              "      <td>1082.090955</td>\n",
              "      <td>1089.270841</td>\n",
              "      <td>1089.166856</td>\n",
              "      <td>1074.604428</td>\n",
              "      <td>1091.156357</td>\n",
              "      <td>1083.807717</td>\n",
              "      <td>210.322454</td>\n",
              "      <td>2016.0</td>\n",
              "      <td>5.920683</td>\n",
              "      <td>15.530550</td>\n",
              "      <td>4.001139</td>\n",
              "      <td>11.491461</td>\n",
              "      <td>0.0</td>\n",
              "      <td>0.0</td>\n",
              "    </tr>\n",
              "    <tr>\n",
              "      <th>std</th>\n",
              "      <td>2.885008</td>\n",
              "      <td>4.824696</td>\n",
              "      <td>535.519165</td>\n",
              "      <td>1.114934</td>\n",
              "      <td>0.813907</td>\n",
              "      <td>535.608830</td>\n",
              "      <td>533.723885</td>\n",
              "      <td>533.424014</td>\n",
              "      <td>537.138773</td>\n",
              "      <td>537.239794</td>\n",
              "      <td>531.265960</td>\n",
              "      <td>538.058616</td>\n",
              "      <td>534.776963</td>\n",
              "      <td>532.285078</td>\n",
              "      <td>535.351666</td>\n",
              "      <td>536.730228</td>\n",
              "      <td>536.976481</td>\n",
              "      <td>143.846069</td>\n",
              "      <td>0.0</td>\n",
              "      <td>3.115832</td>\n",
              "      <td>8.731102</td>\n",
              "      <td>1.999272</td>\n",
              "      <td>6.923853</td>\n",
              "      <td>0.0</td>\n",
              "      <td>0.0</td>\n",
              "    </tr>\n",
              "    <tr>\n",
              "      <th>min</th>\n",
              "      <td>5.000000</td>\n",
              "      <td>65.000000</td>\n",
              "      <td>155.000000</td>\n",
              "      <td>0.000000</td>\n",
              "      <td>0.000000</td>\n",
              "      <td>155.000000</td>\n",
              "      <td>155.000000</td>\n",
              "      <td>155.000000</td>\n",
              "      <td>155.000000</td>\n",
              "      <td>155.000000</td>\n",
              "      <td>155.000000</td>\n",
              "      <td>155.000000</td>\n",
              "      <td>155.000000</td>\n",
              "      <td>155.000000</td>\n",
              "      <td>155.000000</td>\n",
              "      <td>155.000000</td>\n",
              "      <td>155.000000</td>\n",
              "      <td>1.000000</td>\n",
              "      <td>2016.0</td>\n",
              "      <td>1.000000</td>\n",
              "      <td>1.000000</td>\n",
              "      <td>1.000000</td>\n",
              "      <td>0.000000</td>\n",
              "      <td>0.0</td>\n",
              "      <td>0.0</td>\n",
              "    </tr>\n",
              "    <tr>\n",
              "      <th>25%</th>\n",
              "      <td>62.000000</td>\n",
              "      <td>80.000000</td>\n",
              "      <td>633.000000</td>\n",
              "      <td>0.000000</td>\n",
              "      <td>0.000000</td>\n",
              "      <td>605.000000</td>\n",
              "      <td>604.000000</td>\n",
              "      <td>626.000000</td>\n",
              "      <td>625.000000</td>\n",
              "      <td>609.000000</td>\n",
              "      <td>634.000000</td>\n",
              "      <td>618.000000</td>\n",
              "      <td>628.000000</td>\n",
              "      <td>630.000000</td>\n",
              "      <td>605.000000</td>\n",
              "      <td>621.000000</td>\n",
              "      <td>616.000000</td>\n",
              "      <td>89.000000</td>\n",
              "      <td>2016.0</td>\n",
              "      <td>3.000000</td>\n",
              "      <td>8.000000</td>\n",
              "      <td>2.000000</td>\n",
              "      <td>5.000000</td>\n",
              "      <td>0.0</td>\n",
              "      <td>0.0</td>\n",
              "    </tr>\n",
              "    <tr>\n",
              "      <th>50%</th>\n",
              "      <td>64.000000</td>\n",
              "      <td>84.000000</td>\n",
              "      <td>1099.000000</td>\n",
              "      <td>2.000000</td>\n",
              "      <td>1.000000</td>\n",
              "      <td>1056.000000</td>\n",
              "      <td>1075.000000</td>\n",
              "      <td>1073.000000</td>\n",
              "      <td>1091.000000</td>\n",
              "      <td>1073.000000</td>\n",
              "      <td>1076.000000</td>\n",
              "      <td>1077.000000</td>\n",
              "      <td>1093.000000</td>\n",
              "      <td>1081.000000</td>\n",
              "      <td>1064.000000</td>\n",
              "      <td>1090.000000</td>\n",
              "      <td>1078.000000</td>\n",
              "      <td>192.000000</td>\n",
              "      <td>2016.0</td>\n",
              "      <td>6.000000</td>\n",
              "      <td>15.000000</td>\n",
              "      <td>4.000000</td>\n",
              "      <td>11.000000</td>\n",
              "      <td>0.0</td>\n",
              "      <td>0.0</td>\n",
              "    </tr>\n",
              "    <tr>\n",
              "      <th>75%</th>\n",
              "      <td>66.000000</td>\n",
              "      <td>87.000000</td>\n",
              "      <td>1556.000000</td>\n",
              "      <td>2.000000</td>\n",
              "      <td>2.000000</td>\n",
              "      <td>1530.000000</td>\n",
              "      <td>1542.000000</td>\n",
              "      <td>1541.000000</td>\n",
              "      <td>1561.000000</td>\n",
              "      <td>1540.000000</td>\n",
              "      <td>1527.000000</td>\n",
              "      <td>1547.000000</td>\n",
              "      <td>1548.000000</td>\n",
              "      <td>1551.000000</td>\n",
              "      <td>1537.000000</td>\n",
              "      <td>1564.000000</td>\n",
              "      <td>1552.000000</td>\n",
              "      <td>314.000000</td>\n",
              "      <td>2016.0</td>\n",
              "      <td>9.000000</td>\n",
              "      <td>23.000000</td>\n",
              "      <td>6.000000</td>\n",
              "      <td>17.000000</td>\n",
              "      <td>0.0</td>\n",
              "      <td>0.0</td>\n",
              "    </tr>\n",
              "    <tr>\n",
              "      <th>max</th>\n",
              "      <td>78.000000</td>\n",
              "      <td>122.000000</td>\n",
              "      <td>2011.000000</td>\n",
              "      <td>3.000000</td>\n",
              "      <td>2.000000</td>\n",
              "      <td>2011.000000</td>\n",
              "      <td>2011.000000</td>\n",
              "      <td>2011.000000</td>\n",
              "      <td>2011.000000</td>\n",
              "      <td>2011.000000</td>\n",
              "      <td>2011.000000</td>\n",
              "      <td>2011.000000</td>\n",
              "      <td>2011.000000</td>\n",
              "      <td>2011.000000</td>\n",
              "      <td>2011.000000</td>\n",
              "      <td>2011.000000</td>\n",
              "      <td>2011.000000</td>\n",
              "      <td>597.000000</td>\n",
              "      <td>2016.0</td>\n",
              "      <td>11.000000</td>\n",
              "      <td>31.000000</td>\n",
              "      <td>7.000000</td>\n",
              "      <td>23.000000</td>\n",
              "      <td>0.0</td>\n",
              "      <td>0.0</td>\n",
              "    </tr>\n",
              "  </tbody>\n",
              "</table>\n",
              "</div>"
            ],
            "text/plain": [
              "       Temperature     Humidity  ...  ?Date.minute  ?Date.second\n",
              "count  7905.000000  7905.000000  ...        7905.0        7905.0\n",
              "mean     64.031499    83.708412  ...           0.0           0.0\n",
              "std       2.885008     4.824696  ...           0.0           0.0\n",
              "min       5.000000    65.000000  ...           0.0           0.0\n",
              "25%      62.000000    80.000000  ...           0.0           0.0\n",
              "50%      64.000000    84.000000  ...           0.0           0.0\n",
              "75%      66.000000    87.000000  ...           0.0           0.0\n",
              "max      78.000000   122.000000  ...           0.0           0.0\n",
              "\n",
              "[8 rows x 25 columns]"
            ]
          },
          "metadata": {},
          "execution_count": 21
        }
      ]
    },
    {
      "cell_type": "code",
      "metadata": {
        "id": "ub92Wi5TyyVB"
      },
      "source": [
        "train.columns = ['Date', 'Temperature', 'Humidity', 'Operator', 'Measure1', 'Measure2',\n",
        "           'Measure3', 'Measure4', 'Measure5', 'Measure6', 'Measure7', 'Measure8', 'Measure9', 'Measure10', 'Measure11', 'Measure12', 'Measure13', 'Measure14','Measure15', 'Hours_since_prev', 'Failure', 'Year', 'Month', 'Day', 'Week', 'Hour','Minute', 'Second']"
      ],
      "execution_count": 37,
      "outputs": []
    },
    {
      "cell_type": "code",
      "metadata": {
        "colab": {
          "base_uri": "https://localhost:8080/",
          "height": 372
        },
        "id": "tykelHlbzGqb",
        "outputId": "d096eb79-ca03-472b-88d7-dcead1ee9ad4"
      },
      "source": [
        "train.describe()"
      ],
      "execution_count": 22,
      "outputs": [
        {
          "output_type": "execute_result",
          "data": {
            "text/html": [
              "<div>\n",
              "<style scoped>\n",
              "    .dataframe tbody tr th:only-of-type {\n",
              "        vertical-align: middle;\n",
              "    }\n",
              "\n",
              "    .dataframe tbody tr th {\n",
              "        vertical-align: top;\n",
              "    }\n",
              "\n",
              "    .dataframe thead th {\n",
              "        text-align: right;\n",
              "    }\n",
              "</style>\n",
              "<table border=\"1\" class=\"dataframe\">\n",
              "  <thead>\n",
              "    <tr style=\"text-align: right;\">\n",
              "      <th></th>\n",
              "      <th>Temperature</th>\n",
              "      <th>Humidity</th>\n",
              "      <th>Measure1</th>\n",
              "      <th>Measure2</th>\n",
              "      <th>Measure3</th>\n",
              "      <th>Measure4</th>\n",
              "      <th>Measure5</th>\n",
              "      <th>Measure6</th>\n",
              "      <th>Measure7</th>\n",
              "      <th>Measure8</th>\n",
              "      <th>Measure9</th>\n",
              "      <th>Measure10</th>\n",
              "      <th>Measure11</th>\n",
              "      <th>Measure12</th>\n",
              "      <th>Measure13</th>\n",
              "      <th>Measure14</th>\n",
              "      <th>Measure15</th>\n",
              "      <th>Hours Since Previous Failure</th>\n",
              "      <th>?Date.year</th>\n",
              "      <th>?Date.month</th>\n",
              "      <th>?Date.day-of-month</th>\n",
              "      <th>?Date.day-of-week</th>\n",
              "      <th>?Date.hour</th>\n",
              "      <th>?Date.minute</th>\n",
              "      <th>?Date.second</th>\n",
              "    </tr>\n",
              "  </thead>\n",
              "  <tbody>\n",
              "    <tr>\n",
              "      <th>count</th>\n",
              "      <td>7905.000000</td>\n",
              "      <td>7905.000000</td>\n",
              "      <td>7905.000000</td>\n",
              "      <td>7905.000000</td>\n",
              "      <td>7905.000000</td>\n",
              "      <td>7905.000000</td>\n",
              "      <td>7905.000000</td>\n",
              "      <td>7905.000000</td>\n",
              "      <td>7905.000000</td>\n",
              "      <td>7905.000000</td>\n",
              "      <td>7905.000000</td>\n",
              "      <td>7905.000000</td>\n",
              "      <td>7905.000000</td>\n",
              "      <td>7905.000000</td>\n",
              "      <td>7905.000000</td>\n",
              "      <td>7905.000000</td>\n",
              "      <td>7905.000000</td>\n",
              "      <td>7905.000000</td>\n",
              "      <td>7905.0</td>\n",
              "      <td>7905.000000</td>\n",
              "      <td>7905.000000</td>\n",
              "      <td>7905.000000</td>\n",
              "      <td>7905.000000</td>\n",
              "      <td>7905.0</td>\n",
              "      <td>7905.0</td>\n",
              "    </tr>\n",
              "    <tr>\n",
              "      <th>mean</th>\n",
              "      <td>64.031499</td>\n",
              "      <td>83.708412</td>\n",
              "      <td>1093.461354</td>\n",
              "      <td>1.488931</td>\n",
              "      <td>1.002277</td>\n",
              "      <td>1068.775206</td>\n",
              "      <td>1075.298166</td>\n",
              "      <td>1077.784187</td>\n",
              "      <td>1089.264263</td>\n",
              "      <td>1076.061607</td>\n",
              "      <td>1081.998229</td>\n",
              "      <td>1082.090955</td>\n",
              "      <td>1089.270841</td>\n",
              "      <td>1089.166856</td>\n",
              "      <td>1074.604428</td>\n",
              "      <td>1091.156357</td>\n",
              "      <td>1083.807717</td>\n",
              "      <td>210.322454</td>\n",
              "      <td>2016.0</td>\n",
              "      <td>5.920683</td>\n",
              "      <td>15.530550</td>\n",
              "      <td>4.001139</td>\n",
              "      <td>11.491461</td>\n",
              "      <td>0.0</td>\n",
              "      <td>0.0</td>\n",
              "    </tr>\n",
              "    <tr>\n",
              "      <th>std</th>\n",
              "      <td>2.885008</td>\n",
              "      <td>4.824696</td>\n",
              "      <td>535.519165</td>\n",
              "      <td>1.114934</td>\n",
              "      <td>0.813907</td>\n",
              "      <td>535.608830</td>\n",
              "      <td>533.723885</td>\n",
              "      <td>533.424014</td>\n",
              "      <td>537.138773</td>\n",
              "      <td>537.239794</td>\n",
              "      <td>531.265960</td>\n",
              "      <td>538.058616</td>\n",
              "      <td>534.776963</td>\n",
              "      <td>532.285078</td>\n",
              "      <td>535.351666</td>\n",
              "      <td>536.730228</td>\n",
              "      <td>536.976481</td>\n",
              "      <td>143.846069</td>\n",
              "      <td>0.0</td>\n",
              "      <td>3.115832</td>\n",
              "      <td>8.731102</td>\n",
              "      <td>1.999272</td>\n",
              "      <td>6.923853</td>\n",
              "      <td>0.0</td>\n",
              "      <td>0.0</td>\n",
              "    </tr>\n",
              "    <tr>\n",
              "      <th>min</th>\n",
              "      <td>5.000000</td>\n",
              "      <td>65.000000</td>\n",
              "      <td>155.000000</td>\n",
              "      <td>0.000000</td>\n",
              "      <td>0.000000</td>\n",
              "      <td>155.000000</td>\n",
              "      <td>155.000000</td>\n",
              "      <td>155.000000</td>\n",
              "      <td>155.000000</td>\n",
              "      <td>155.000000</td>\n",
              "      <td>155.000000</td>\n",
              "      <td>155.000000</td>\n",
              "      <td>155.000000</td>\n",
              "      <td>155.000000</td>\n",
              "      <td>155.000000</td>\n",
              "      <td>155.000000</td>\n",
              "      <td>155.000000</td>\n",
              "      <td>1.000000</td>\n",
              "      <td>2016.0</td>\n",
              "      <td>1.000000</td>\n",
              "      <td>1.000000</td>\n",
              "      <td>1.000000</td>\n",
              "      <td>0.000000</td>\n",
              "      <td>0.0</td>\n",
              "      <td>0.0</td>\n",
              "    </tr>\n",
              "    <tr>\n",
              "      <th>25%</th>\n",
              "      <td>62.000000</td>\n",
              "      <td>80.000000</td>\n",
              "      <td>633.000000</td>\n",
              "      <td>0.000000</td>\n",
              "      <td>0.000000</td>\n",
              "      <td>605.000000</td>\n",
              "      <td>604.000000</td>\n",
              "      <td>626.000000</td>\n",
              "      <td>625.000000</td>\n",
              "      <td>609.000000</td>\n",
              "      <td>634.000000</td>\n",
              "      <td>618.000000</td>\n",
              "      <td>628.000000</td>\n",
              "      <td>630.000000</td>\n",
              "      <td>605.000000</td>\n",
              "      <td>621.000000</td>\n",
              "      <td>616.000000</td>\n",
              "      <td>89.000000</td>\n",
              "      <td>2016.0</td>\n",
              "      <td>3.000000</td>\n",
              "      <td>8.000000</td>\n",
              "      <td>2.000000</td>\n",
              "      <td>5.000000</td>\n",
              "      <td>0.0</td>\n",
              "      <td>0.0</td>\n",
              "    </tr>\n",
              "    <tr>\n",
              "      <th>50%</th>\n",
              "      <td>64.000000</td>\n",
              "      <td>84.000000</td>\n",
              "      <td>1099.000000</td>\n",
              "      <td>2.000000</td>\n",
              "      <td>1.000000</td>\n",
              "      <td>1056.000000</td>\n",
              "      <td>1075.000000</td>\n",
              "      <td>1073.000000</td>\n",
              "      <td>1091.000000</td>\n",
              "      <td>1073.000000</td>\n",
              "      <td>1076.000000</td>\n",
              "      <td>1077.000000</td>\n",
              "      <td>1093.000000</td>\n",
              "      <td>1081.000000</td>\n",
              "      <td>1064.000000</td>\n",
              "      <td>1090.000000</td>\n",
              "      <td>1078.000000</td>\n",
              "      <td>192.000000</td>\n",
              "      <td>2016.0</td>\n",
              "      <td>6.000000</td>\n",
              "      <td>15.000000</td>\n",
              "      <td>4.000000</td>\n",
              "      <td>11.000000</td>\n",
              "      <td>0.0</td>\n",
              "      <td>0.0</td>\n",
              "    </tr>\n",
              "    <tr>\n",
              "      <th>75%</th>\n",
              "      <td>66.000000</td>\n",
              "      <td>87.000000</td>\n",
              "      <td>1556.000000</td>\n",
              "      <td>2.000000</td>\n",
              "      <td>2.000000</td>\n",
              "      <td>1530.000000</td>\n",
              "      <td>1542.000000</td>\n",
              "      <td>1541.000000</td>\n",
              "      <td>1561.000000</td>\n",
              "      <td>1540.000000</td>\n",
              "      <td>1527.000000</td>\n",
              "      <td>1547.000000</td>\n",
              "      <td>1548.000000</td>\n",
              "      <td>1551.000000</td>\n",
              "      <td>1537.000000</td>\n",
              "      <td>1564.000000</td>\n",
              "      <td>1552.000000</td>\n",
              "      <td>314.000000</td>\n",
              "      <td>2016.0</td>\n",
              "      <td>9.000000</td>\n",
              "      <td>23.000000</td>\n",
              "      <td>6.000000</td>\n",
              "      <td>17.000000</td>\n",
              "      <td>0.0</td>\n",
              "      <td>0.0</td>\n",
              "    </tr>\n",
              "    <tr>\n",
              "      <th>max</th>\n",
              "      <td>78.000000</td>\n",
              "      <td>122.000000</td>\n",
              "      <td>2011.000000</td>\n",
              "      <td>3.000000</td>\n",
              "      <td>2.000000</td>\n",
              "      <td>2011.000000</td>\n",
              "      <td>2011.000000</td>\n",
              "      <td>2011.000000</td>\n",
              "      <td>2011.000000</td>\n",
              "      <td>2011.000000</td>\n",
              "      <td>2011.000000</td>\n",
              "      <td>2011.000000</td>\n",
              "      <td>2011.000000</td>\n",
              "      <td>2011.000000</td>\n",
              "      <td>2011.000000</td>\n",
              "      <td>2011.000000</td>\n",
              "      <td>2011.000000</td>\n",
              "      <td>597.000000</td>\n",
              "      <td>2016.0</td>\n",
              "      <td>11.000000</td>\n",
              "      <td>31.000000</td>\n",
              "      <td>7.000000</td>\n",
              "      <td>23.000000</td>\n",
              "      <td>0.0</td>\n",
              "      <td>0.0</td>\n",
              "    </tr>\n",
              "  </tbody>\n",
              "</table>\n",
              "</div>"
            ],
            "text/plain": [
              "       Temperature     Humidity  ...  ?Date.minute  ?Date.second\n",
              "count  7905.000000  7905.000000  ...        7905.0        7905.0\n",
              "mean     64.031499    83.708412  ...           0.0           0.0\n",
              "std       2.885008     4.824696  ...           0.0           0.0\n",
              "min       5.000000    65.000000  ...           0.0           0.0\n",
              "25%      62.000000    80.000000  ...           0.0           0.0\n",
              "50%      64.000000    84.000000  ...           0.0           0.0\n",
              "75%      66.000000    87.000000  ...           0.0           0.0\n",
              "max      78.000000   122.000000  ...           0.0           0.0\n",
              "\n",
              "[8 rows x 25 columns]"
            ]
          },
          "metadata": {},
          "execution_count": 22
        }
      ]
    },
    {
      "cell_type": "code",
      "metadata": {
        "colab": {
          "base_uri": "https://localhost:8080/"
        },
        "id": "W9fUIrNSzJNS",
        "outputId": "b5d2712b-c1bd-4470-be96-47c09c4e9012"
      },
      "source": [
        "train.dtypes"
      ],
      "execution_count": 23,
      "outputs": [
        {
          "output_type": "execute_result",
          "data": {
            "text/plain": [
              "Date                            object\n",
              "Temperature                      int64\n",
              "Humidity                         int64\n",
              "Operator                        object\n",
              "Measure1                         int64\n",
              "Measure2                         int64\n",
              "Measure3                         int64\n",
              "Measure4                         int64\n",
              "Measure5                         int64\n",
              "Measure6                         int64\n",
              "Measure7                         int64\n",
              "Measure8                         int64\n",
              "Measure9                         int64\n",
              "Measure10                        int64\n",
              "Measure11                        int64\n",
              "Measure12                        int64\n",
              "Measure13                        int64\n",
              "Measure14                        int64\n",
              "Measure15                        int64\n",
              "Hours Since Previous Failure     int64\n",
              "Failure                         object\n",
              "?Date.year                       int64\n",
              "?Date.month                      int64\n",
              "?Date.day-of-month               int64\n",
              "?Date.day-of-week                int64\n",
              "?Date.hour                       int64\n",
              "?Date.minute                     int64\n",
              "?Date.second                     int64\n",
              "dtype: object"
            ]
          },
          "metadata": {},
          "execution_count": 23
        }
      ]
    },
    {
      "cell_type": "code",
      "metadata": {
        "colab": {
          "base_uri": "https://localhost:8080/"
        },
        "id": "0j2zwz3zzQmI",
        "outputId": "198a1c9a-31a2-45f6-c76a-3d96a8708dd6"
      },
      "source": [
        "train['Failure'].value_counts()"
      ],
      "execution_count": 24,
      "outputs": [
        {
          "output_type": "execute_result",
          "data": {
            "text/plain": [
              "No     7830\n",
              "Yes      75\n",
              "Name: Failure, dtype: int64"
            ]
          },
          "metadata": {},
          "execution_count": 24
        }
      ]
    },
    {
      "cell_type": "code",
      "metadata": {
        "id": "wFCz86mUzThj"
      },
      "source": [
        "train['Failure'] = train['Failure'].astype('category')\n",
        "train['Failure'] = train['Failure'].cat.codes\n"
      ],
      "execution_count": null,
      "outputs": []
    },
    {
      "cell_type": "code",
      "metadata": {
        "colab": {
          "base_uri": "https://localhost:8080/"
        },
        "id": "SlEDHVkTzepG",
        "outputId": "7c56af68-dbbd-48a4-e8c5-c07888914119"
      },
      "source": [
        "train.dtypes"
      ],
      "execution_count": 25,
      "outputs": [
        {
          "output_type": "execute_result",
          "data": {
            "text/plain": [
              "Date                            object\n",
              "Temperature                      int64\n",
              "Humidity                         int64\n",
              "Operator                        object\n",
              "Measure1                         int64\n",
              "Measure2                         int64\n",
              "Measure3                         int64\n",
              "Measure4                         int64\n",
              "Measure5                         int64\n",
              "Measure6                         int64\n",
              "Measure7                         int64\n",
              "Measure8                         int64\n",
              "Measure9                         int64\n",
              "Measure10                        int64\n",
              "Measure11                        int64\n",
              "Measure12                        int64\n",
              "Measure13                        int64\n",
              "Measure14                        int64\n",
              "Measure15                        int64\n",
              "Hours Since Previous Failure     int64\n",
              "Failure                         object\n",
              "?Date.year                       int64\n",
              "?Date.month                      int64\n",
              "?Date.day-of-month               int64\n",
              "?Date.day-of-week                int64\n",
              "?Date.hour                       int64\n",
              "?Date.minute                     int64\n",
              "?Date.second                     int64\n",
              "dtype: object"
            ]
          },
          "metadata": {},
          "execution_count": 25
        }
      ]
    },
    {
      "cell_type": "code",
      "metadata": {
        "colab": {
          "base_uri": "https://localhost:8080/"
        },
        "id": "kpeQNPpazopv",
        "outputId": "24a13615-234d-4664-94d5-d9b742735866"
      },
      "source": [
        "train['Failure'].value_counts()"
      ],
      "execution_count": 26,
      "outputs": [
        {
          "output_type": "execute_result",
          "data": {
            "text/plain": [
              "No     7830\n",
              "Yes      75\n",
              "Name: Failure, dtype: int64"
            ]
          },
          "metadata": {},
          "execution_count": 26
        }
      ]
    },
    {
      "cell_type": "code",
      "metadata": {
        "colab": {
          "base_uri": "https://localhost:8080/",
          "height": 296
        },
        "id": "rLh-xm_2zwEL",
        "outputId": "d16f95e3-1d3b-4af2-8017-c72b1959e43b"
      },
      "source": [
        "sns.boxplot(x=train['Measure1'])"
      ],
      "execution_count": 36,
      "outputs": [
        {
          "output_type": "execute_result",
          "data": {
            "text/plain": [
              "<matplotlib.axes._subplots.AxesSubplot at 0x7fd3a3cdc350>"
            ]
          },
          "metadata": {},
          "execution_count": 36
        },
        {
          "output_type": "display_data",
          "data": {
            "image/png": "[encoded data removed]",
            "text/plain": [
              "<Figure size 432x288 with 1 Axes>"
            ]
          },
          "metadata": {
            "needs_background": "light"
          }
        }
      ]
    },
    {
      "cell_type": "code",
      "metadata": {
        "colab": {
          "base_uri": "https://localhost:8080/",
          "height": 296
        },
        "id": "5pIp7nUiz7YX",
        "outputId": "3dcbd820-a2bc-4b37-909f-ecb85e593042"
      },
      "source": [
        "sns.boxplot(x=train['Measure2'])"
      ],
      "execution_count": 27,
      "outputs": [
        {
          "output_type": "execute_result",
          "data": {
            "text/plain": [
              "<matplotlib.axes._subplots.AxesSubplot at 0x7fd3ade4ec10>"
            ]
          },
          "metadata": {},
          "execution_count": 27
        },
        {
          "output_type": "display_data",
          "data": {
            "image/png": "[encoded data removed]",
            "text/plain": [
              "<Figure size 432x288 with 1 Axes>"
            ]
          },
          "metadata": {
            "needs_background": "light"
          }
        }
      ]
    },
    {
      "cell_type": "code",
      "metadata": {
        "colab": {
          "base_uri": "https://localhost:8080/",
          "height": 470
        },
        "id": "2o_nkHPNz-u3",
        "outputId": "be872ce8-38ed-415d-f931-4138cdc64109"
      },
      "source": [
        "\n",
        "train['Humidity'][train['Humidity']< 70] = 70\n",
        "train['Humidity'][train['Humidity']>95] = 95\n",
        "sns.boxplot(x=train['Humidity'])"
      ],
      "execution_count": 28,
      "outputs": [
        {
          "output_type": "stream",
          "name": "stderr",
          "text": [
            "/usr/local/lib/python3.7/dist-packages/ipykernel_launcher.py:2: SettingWithCopyWarning: \n",
            "A value is trying to be set on a copy of a slice from a DataFrame\n",
            "\n",
            "See the caveats in the documentation: https://pandas.pydata.org/pandas-docs/stable/user_guide/indexing.html#returning-a-view-versus-a-copy\n",
            "  \n",
            "/usr/local/lib/python3.7/dist-packages/ipykernel_launcher.py:3: SettingWithCopyWarning: \n",
            "A value is trying to be set on a copy of a slice from a DataFrame\n",
            "\n",
            "See the caveats in the documentation: https://pandas.pydata.org/pandas-docs/stable/user_guide/indexing.html#returning-a-view-versus-a-copy\n",
            "  This is separate from the ipykernel package so we can avoid doing imports until\n"
          ]
        },
        {
          "output_type": "execute_result",
          "data": {
            "text/plain": [
              "<matplotlib.axes._subplots.AxesSubplot at 0x7fd3ade1ac10>"
            ]
          },
          "metadata": {},
          "execution_count": 28
        },
        {
          "output_type": "display_data",
          "data": {
            "image/png": "[encoded data removed]",
            "text/plain": [
              "<Figure size 432x288 with 1 Axes>"
            ]
          },
          "metadata": {
            "needs_background": "light"
          }
        }
      ]
    },
    {
      "cell_type": "code",
      "metadata": {
        "colab": {
          "base_uri": "https://localhost:8080/",
          "height": 470
        },
        "id": "N1oxFkBF0Be8",
        "outputId": "5cab21b5-fdbf-4a6b-fec0-25384b1d4126"
      },
      "source": [
        "train['Temperature'][train['Temperature']<60] = 60\n",
        "train['Temperature'][train['Temperature']>71.875] = 71.875\n",
        "sns.boxplot(x = train['Temperature'])"
      ],
      "execution_count": 29,
      "outputs": [
        {
          "output_type": "stream",
          "name": "stderr",
          "text": [
            "/usr/local/lib/python3.7/dist-packages/ipykernel_launcher.py:1: SettingWithCopyWarning: \n",
            "A value is trying to be set on a copy of a slice from a DataFrame\n",
            "\n",
            "See the caveats in the documentation: https://pandas.pydata.org/pandas-docs/stable/user_guide/indexing.html#returning-a-view-versus-a-copy\n",
            "  \"\"\"Entry point for launching an IPython kernel.\n",
            "/usr/local/lib/python3.7/dist-packages/ipykernel_launcher.py:2: SettingWithCopyWarning: \n",
            "A value is trying to be set on a copy of a slice from a DataFrame\n",
            "\n",
            "See the caveats in the documentation: https://pandas.pydata.org/pandas-docs/stable/user_guide/indexing.html#returning-a-view-versus-a-copy\n",
            "  \n"
          ]
        },
        {
          "output_type": "execute_result",
          "data": {
            "text/plain": [
              "<matplotlib.axes._subplots.AxesSubplot at 0x7fd3ad6ecd90>"
            ]
          },
          "metadata": {},
          "execution_count": 29
        },
        {
          "output_type": "display_data",
          "data": {
            "image/png": "[encoded data removed]",
            "text/plain": [
              "<Figure size 432x288 with 1 Axes>"
            ]
          },
          "metadata": {
            "needs_background": "light"
          }
        }
      ]
    },
    {
      "cell_type": "code",
      "metadata": {
        "colab": {
          "base_uri": "https://localhost:8080/",
          "height": 418
        },
        "id": "VYLMxHr90GG-",
        "outputId": "f0da1269-551f-4076-992b-812ea4483de2"
      },
      "source": [
        "sns.heatmap(train.corr())"
      ],
      "execution_count": 30,
      "outputs": [
        {
          "output_type": "execute_result",
          "data": {
            "text/plain": [
              "<matplotlib.axes._subplots.AxesSubplot at 0x7fd3ac6689d0>"
            ]
          },
          "metadata": {},
          "execution_count": 30
        },
        {
          "output_type": "display_data",
          "data": {
            "image/png": "[encoded data removed]",
            "text/plain": [
              "<Figure size 432x288 with 2 Axes>"
            ]
          },
          "metadata": {
            "needs_background": "light"
          }
        }
      ]
    },
    {
      "cell_type": "code",
      "metadata": {
        "id": "ve7uFTnx0Wlv"
      },
      "source": [
        "X = train[['Temperature', 'Humidity', 'Hours_since_prev', 'Year', 'Month', 'Day', 'Week']]\n",
        "y = train['Failure']\n",
        "from sklearn.model_selection import train_test_split\n",
        "X_train, X_test, y_train, y_test = train_test_split(X, y, test_size=0.7, random_state=101)"
      ],
      "execution_count": 38,
      "outputs": []
    },
    {
      "cell_type": "code",
      "metadata": {
        "id": "7Filg6fu0Zug"
      },
      "source": [
        "from sklearn.linear_model import LogisticRegression"
      ],
      "execution_count": 32,
      "outputs": []
    },
    {
      "cell_type": "code",
      "metadata": {
        "id": "_LZnqSeg0jjW"
      },
      "source": [
        "from sklearn.metrics import accuracy_score"
      ],
      "execution_count": 33,
      "outputs": []
    },
    {
      "cell_type": "code",
      "metadata": {
        "colab": {
          "base_uri": "https://localhost:8080/"
        },
        "id": "54HZu6Ry0lus",
        "outputId": "6d233920-762f-4e63-f950-468be0381644"
      },
      "source": [
        "\n",
        "model = LogisticRegression()\n",
        "model.fit(X_train, y_train)"
      ],
      "execution_count": 39,
      "outputs": [
        {
          "output_type": "execute_result",
          "data": {
            "text/plain": [
              "LogisticRegression()"
            ]
          },
          "metadata": {},
          "execution_count": 39
        }
      ]
    },
    {
      "cell_type": "code",
      "metadata": {
        "colab": {
          "base_uri": "https://localhost:8080/"
        },
        "id": "kO30SHqH0n4L",
        "outputId": "f3455fb3-70f9-4a13-ca02-f68795618941"
      },
      "source": [
        "\n",
        "predicted_classes = model.predict(X_test)\n",
        "predicted_classes"
      ],
      "execution_count": 40,
      "outputs": [
        {
          "output_type": "execute_result",
          "data": {
            "text/plain": [
              "array(['No', 'No', 'No', ..., 'No', 'No', 'No'], dtype=object)"
            ]
          },
          "metadata": {},
          "execution_count": 40
        }
      ]
    },
    {
      "cell_type": "code",
      "metadata": {
        "id": "CzfJnHke0qyx"
      },
      "source": [
        "predictions = pd.Series(predicted_classes)"
      ],
      "execution_count": 41,
      "outputs": []
    },
    {
      "cell_type": "code",
      "metadata": {
        "id": "escZoLlt0ue_"
      },
      "source": [
        "parameters = model.coef_"
      ],
      "execution_count": 44,
      "outputs": []
    },
    {
      "cell_type": "code",
      "metadata": {
        "colab": {
          "base_uri": "https://localhost:8080/"
        },
        "id": "-FG_ajd00wlA",
        "outputId": "4ea157c7-41ef-48ec-a3c0-d6fabbaa59a9"
      },
      "source": [
        "print(parameters)"
      ],
      "execution_count": 45,
      "outputs": [
        {
          "output_type": "stream",
          "name": "stdout",
          "text": [
            "[[ 0.69549166 -0.37527331 -0.00465494 -0.01064639  0.28602946 -0.03670515\n",
            "   0.04351306]]\n"
          ]
        }
      ]
    },
    {
      "cell_type": "code",
      "metadata": {
        "id": "O6N6OksZ0zmn"
      },
      "source": [
        "from sklearn import metrics"
      ],
      "execution_count": 43,
      "outputs": []
    },
    {
      "cell_type": "code",
      "metadata": {
        "colab": {
          "base_uri": "https://localhost:8080/",
          "height": 346
        },
        "id": "MM4DaTMX02oR",
        "outputId": "451fda73-cd09-4608-f5df-f5be15349728"
      },
      "source": [
        "print('MAE:', metrics.mean_absolute_error(y_test, predicted_classes))\n",
        "print('MSE:', metrics.mean_squared_error(y_test, predicted_classes))\n",
        "print('RMSE:', np.sqrt(metrics.mean_squared_error(y_test, predicted_classes)))"
      ],
      "execution_count": 56,
      "outputs": [
        {
          "output_type": "error",
          "ename": "ValueError",
          "evalue": "ignored",
          "traceback": [
            "\u001b[0;31m---------------------------------------------------------------------------\u001b[0m",
            "\u001b[0;31mValueError\u001b[0m                                Traceback (most recent call last)",
            "\u001b[0;32m<ipython-input-56-2e058d489741>\u001b[0m in \u001b[0;36m<module>\u001b[0;34m()\u001b[0m\n\u001b[0;32m----> 1\u001b[0;31m \u001b[0mprint\u001b[0m\u001b[0;34m(\u001b[0m\u001b[0;34m'MAE:'\u001b[0m\u001b[0;34m,\u001b[0m \u001b[0mmetrics\u001b[0m\u001b[0;34m.\u001b[0m\u001b[0mmean_absolute_error\u001b[0m\u001b[0;34m(\u001b[0m\u001b[0my_test\u001b[0m\u001b[0;34m,\u001b[0m \u001b[0mpredicted_classes\u001b[0m\u001b[0;34m)\u001b[0m\u001b[0;34m)\u001b[0m\u001b[0;34m\u001b[0m\u001b[0;34m\u001b[0m\u001b[0m\n\u001b[0m\u001b[1;32m      2\u001b[0m \u001b[0mprint\u001b[0m\u001b[0;34m(\u001b[0m\u001b[0;34m'MSE:'\u001b[0m\u001b[0;34m,\u001b[0m \u001b[0mmetrics\u001b[0m\u001b[0;34m.\u001b[0m\u001b[0mmean_squared_error\u001b[0m\u001b[0;34m(\u001b[0m\u001b[0my_test\u001b[0m\u001b[0;34m,\u001b[0m \u001b[0mpredicted_classes\u001b[0m\u001b[0;34m)\u001b[0m\u001b[0;34m)\u001b[0m\u001b[0;34m\u001b[0m\u001b[0;34m\u001b[0m\u001b[0m\n\u001b[1;32m      3\u001b[0m \u001b[0mprint\u001b[0m\u001b[0;34m(\u001b[0m\u001b[0;34m'RMSE:'\u001b[0m\u001b[0;34m,\u001b[0m \u001b[0mnp\u001b[0m\u001b[0;34m.\u001b[0m\u001b[0msqrt\u001b[0m\u001b[0;34m(\u001b[0m\u001b[0mmetrics\u001b[0m\u001b[0;34m.\u001b[0m\u001b[0mmean_squared_error\u001b[0m\u001b[0;34m(\u001b[0m\u001b[0my_test\u001b[0m\u001b[0;34m,\u001b[0m \u001b[0mpredicted_classes\u001b[0m\u001b[0;34m)\u001b[0m\u001b[0;34m)\u001b[0m\u001b[0;34m)\u001b[0m\u001b[0;34m\u001b[0m\u001b[0;34m\u001b[0m\u001b[0m\n",
            "\u001b[0;32m/usr/local/lib/python3.7/dist-packages/sklearn/metrics/_regression.py\u001b[0m in \u001b[0;36mmean_absolute_error\u001b[0;34m(y_true, y_pred, sample_weight, multioutput)\u001b[0m\n\u001b[1;32m    185\u001b[0m     \"\"\"\n\u001b[1;32m    186\u001b[0m     y_type, y_true, y_pred, multioutput = _check_reg_targets(\n\u001b[0;32m--> 187\u001b[0;31m         \u001b[0my_true\u001b[0m\u001b[0;34m,\u001b[0m \u001b[0my_pred\u001b[0m\u001b[0;34m,\u001b[0m \u001b[0mmultioutput\u001b[0m\u001b[0;34m\u001b[0m\u001b[0;34m\u001b[0m\u001b[0m\n\u001b[0m\u001b[1;32m    188\u001b[0m     )\n\u001b[1;32m    189\u001b[0m     \u001b[0mcheck_consistent_length\u001b[0m\u001b[0;34m(\u001b[0m\u001b[0my_true\u001b[0m\u001b[0;34m,\u001b[0m \u001b[0my_pred\u001b[0m\u001b[0;34m,\u001b[0m \u001b[0msample_weight\u001b[0m\u001b[0;34m)\u001b[0m\u001b[0;34m\u001b[0m\u001b[0;34m\u001b[0m\u001b[0m\n",
            "\u001b[0;32m/usr/local/lib/python3.7/dist-packages/sklearn/metrics/_regression.py\u001b[0m in \u001b[0;36m_check_reg_targets\u001b[0;34m(y_true, y_pred, multioutput, dtype)\u001b[0m\n\u001b[1;32m     88\u001b[0m     \"\"\"\n\u001b[1;32m     89\u001b[0m     \u001b[0mcheck_consistent_length\u001b[0m\u001b[0;34m(\u001b[0m\u001b[0my_true\u001b[0m\u001b[0;34m,\u001b[0m \u001b[0my_pred\u001b[0m\u001b[0;34m)\u001b[0m\u001b[0;34m\u001b[0m\u001b[0;34m\u001b[0m\u001b[0m\n\u001b[0;32m---> 90\u001b[0;31m     \u001b[0my_true\u001b[0m \u001b[0;34m=\u001b[0m \u001b[0mcheck_array\u001b[0m\u001b[0;34m(\u001b[0m\u001b[0my_true\u001b[0m\u001b[0;34m,\u001b[0m \u001b[0mensure_2d\u001b[0m\u001b[0;34m=\u001b[0m\u001b[0;32mFalse\u001b[0m\u001b[0;34m,\u001b[0m \u001b[0mdtype\u001b[0m\u001b[0;34m=\u001b[0m\u001b[0mdtype\u001b[0m\u001b[0;34m)\u001b[0m\u001b[0;34m\u001b[0m\u001b[0;34m\u001b[0m\u001b[0m\n\u001b[0m\u001b[1;32m     91\u001b[0m     \u001b[0my_pred\u001b[0m \u001b[0;34m=\u001b[0m \u001b[0mcheck_array\u001b[0m\u001b[0;34m(\u001b[0m\u001b[0my_pred\u001b[0m\u001b[0;34m,\u001b[0m \u001b[0mensure_2d\u001b[0m\u001b[0;34m=\u001b[0m\u001b[0;32mFalse\u001b[0m\u001b[0;34m,\u001b[0m \u001b[0mdtype\u001b[0m\u001b[0;34m=\u001b[0m\u001b[0mdtype\u001b[0m\u001b[0;34m)\u001b[0m\u001b[0;34m\u001b[0m\u001b[0;34m\u001b[0m\u001b[0m\n\u001b[1;32m     92\u001b[0m \u001b[0;34m\u001b[0m\u001b[0m\n",
            "\u001b[0;32m/usr/local/lib/python3.7/dist-packages/sklearn/utils/validation.py\u001b[0m in \u001b[0;36mcheck_array\u001b[0;34m(array, accept_sparse, accept_large_sparse, dtype, order, copy, force_all_finite, ensure_2d, allow_nd, ensure_min_samples, ensure_min_features, estimator)\u001b[0m\n\u001b[1;32m    736\u001b[0m                     \u001b[0marray\u001b[0m \u001b[0;34m=\u001b[0m \u001b[0marray\u001b[0m\u001b[0;34m.\u001b[0m\u001b[0mastype\u001b[0m\u001b[0;34m(\u001b[0m\u001b[0mdtype\u001b[0m\u001b[0;34m,\u001b[0m \u001b[0mcasting\u001b[0m\u001b[0;34m=\u001b[0m\u001b[0;34m\"unsafe\"\u001b[0m\u001b[0;34m,\u001b[0m \u001b[0mcopy\u001b[0m\u001b[0;34m=\u001b[0m\u001b[0;32mFalse\u001b[0m\u001b[0;34m)\u001b[0m\u001b[0;34m\u001b[0m\u001b[0;34m\u001b[0m\u001b[0m\n\u001b[1;32m    737\u001b[0m                 \u001b[0;32melse\u001b[0m\u001b[0;34m:\u001b[0m\u001b[0;34m\u001b[0m\u001b[0;34m\u001b[0m\u001b[0m\n\u001b[0;32m--> 738\u001b[0;31m                     \u001b[0marray\u001b[0m \u001b[0;34m=\u001b[0m \u001b[0mnp\u001b[0m\u001b[0;34m.\u001b[0m\u001b[0masarray\u001b[0m\u001b[0;34m(\u001b[0m\u001b[0marray\u001b[0m\u001b[0;34m,\u001b[0m \u001b[0morder\u001b[0m\u001b[0;34m=\u001b[0m\u001b[0morder\u001b[0m\u001b[0;34m,\u001b[0m \u001b[0mdtype\u001b[0m\u001b[0;34m=\u001b[0m\u001b[0mdtype\u001b[0m\u001b[0;34m)\u001b[0m\u001b[0;34m\u001b[0m\u001b[0;34m\u001b[0m\u001b[0m\n\u001b[0m\u001b[1;32m    739\u001b[0m             \u001b[0;32mexcept\u001b[0m \u001b[0mComplexWarning\u001b[0m \u001b[0;32mas\u001b[0m \u001b[0mcomplex_warning\u001b[0m\u001b[0;34m:\u001b[0m\u001b[0;34m\u001b[0m\u001b[0;34m\u001b[0m\u001b[0m\n\u001b[1;32m    740\u001b[0m                 raise ValueError(\n",
            "\u001b[0;32m/usr/local/lib/python3.7/dist-packages/numpy/core/_asarray.py\u001b[0m in \u001b[0;36masarray\u001b[0;34m(a, dtype, order)\u001b[0m\n\u001b[1;32m     81\u001b[0m \u001b[0;34m\u001b[0m\u001b[0m\n\u001b[1;32m     82\u001b[0m     \"\"\"\n\u001b[0;32m---> 83\u001b[0;31m     \u001b[0;32mreturn\u001b[0m \u001b[0marray\u001b[0m\u001b[0;34m(\u001b[0m\u001b[0ma\u001b[0m\u001b[0;34m,\u001b[0m \u001b[0mdtype\u001b[0m\u001b[0;34m,\u001b[0m \u001b[0mcopy\u001b[0m\u001b[0;34m=\u001b[0m\u001b[0;32mFalse\u001b[0m\u001b[0;34m,\u001b[0m \u001b[0morder\u001b[0m\u001b[0;34m=\u001b[0m\u001b[0morder\u001b[0m\u001b[0;34m)\u001b[0m\u001b[0;34m\u001b[0m\u001b[0;34m\u001b[0m\u001b[0m\n\u001b[0m\u001b[1;32m     84\u001b[0m \u001b[0;34m\u001b[0m\u001b[0m\n\u001b[1;32m     85\u001b[0m \u001b[0;34m\u001b[0m\u001b[0m\n",
            "\u001b[0;32m/usr/local/lib/python3.7/dist-packages/pandas/core/series.py\u001b[0m in \u001b[0;36m__array__\u001b[0;34m(self, dtype)\u001b[0m\n\u001b[1;32m    795\u001b[0m               dtype='datetime64[ns]')\n\u001b[1;32m    796\u001b[0m         \"\"\"\n\u001b[0;32m--> 797\u001b[0;31m         \u001b[0;32mreturn\u001b[0m \u001b[0mnp\u001b[0m\u001b[0;34m.\u001b[0m\u001b[0masarray\u001b[0m\u001b[0;34m(\u001b[0m\u001b[0mself\u001b[0m\u001b[0;34m.\u001b[0m\u001b[0marray\u001b[0m\u001b[0;34m,\u001b[0m \u001b[0mdtype\u001b[0m\u001b[0;34m)\u001b[0m\u001b[0;34m\u001b[0m\u001b[0;34m\u001b[0m\u001b[0m\n\u001b[0m\u001b[1;32m    798\u001b[0m \u001b[0;34m\u001b[0m\u001b[0m\n\u001b[1;32m    799\u001b[0m     \u001b[0;31m# ----------------------------------------------------------------------\u001b[0m\u001b[0;34m\u001b[0m\u001b[0;34m\u001b[0m\u001b[0;34m\u001b[0m\u001b[0m\n",
            "\u001b[0;32m/usr/local/lib/python3.7/dist-packages/numpy/core/_asarray.py\u001b[0m in \u001b[0;36masarray\u001b[0;34m(a, dtype, order)\u001b[0m\n\u001b[1;32m     81\u001b[0m \u001b[0;34m\u001b[0m\u001b[0m\n\u001b[1;32m     82\u001b[0m     \"\"\"\n\u001b[0;32m---> 83\u001b[0;31m     \u001b[0;32mreturn\u001b[0m \u001b[0marray\u001b[0m\u001b[0;34m(\u001b[0m\u001b[0ma\u001b[0m\u001b[0;34m,\u001b[0m \u001b[0mdtype\u001b[0m\u001b[0;34m,\u001b[0m \u001b[0mcopy\u001b[0m\u001b[0;34m=\u001b[0m\u001b[0;32mFalse\u001b[0m\u001b[0;34m,\u001b[0m \u001b[0morder\u001b[0m\u001b[0;34m=\u001b[0m\u001b[0morder\u001b[0m\u001b[0;34m)\u001b[0m\u001b[0;34m\u001b[0m\u001b[0;34m\u001b[0m\u001b[0m\n\u001b[0m\u001b[1;32m     84\u001b[0m \u001b[0;34m\u001b[0m\u001b[0m\n\u001b[1;32m     85\u001b[0m \u001b[0;34m\u001b[0m\u001b[0m\n",
            "\u001b[0;32m/usr/local/lib/python3.7/dist-packages/pandas/core/arrays/numpy_.py\u001b[0m in \u001b[0;36m__array__\u001b[0;34m(self, dtype)\u001b[0m\n\u001b[1;32m    209\u001b[0m \u001b[0;34m\u001b[0m\u001b[0m\n\u001b[1;32m    210\u001b[0m     \u001b[0;32mdef\u001b[0m \u001b[0m__array__\u001b[0m\u001b[0;34m(\u001b[0m\u001b[0mself\u001b[0m\u001b[0;34m,\u001b[0m \u001b[0mdtype\u001b[0m\u001b[0;34m=\u001b[0m\u001b[0;32mNone\u001b[0m\u001b[0;34m)\u001b[0m \u001b[0;34m->\u001b[0m \u001b[0mnp\u001b[0m\u001b[0;34m.\u001b[0m\u001b[0mndarray\u001b[0m\u001b[0;34m:\u001b[0m\u001b[0;34m\u001b[0m\u001b[0;34m\u001b[0m\u001b[0m\n\u001b[0;32m--> 211\u001b[0;31m         \u001b[0;32mreturn\u001b[0m \u001b[0mnp\u001b[0m\u001b[0;34m.\u001b[0m\u001b[0masarray\u001b[0m\u001b[0;34m(\u001b[0m\u001b[0mself\u001b[0m\u001b[0;34m.\u001b[0m\u001b[0m_ndarray\u001b[0m\u001b[0;34m,\u001b[0m \u001b[0mdtype\u001b[0m\u001b[0;34m=\u001b[0m\u001b[0mdtype\u001b[0m\u001b[0;34m)\u001b[0m\u001b[0;34m\u001b[0m\u001b[0;34m\u001b[0m\u001b[0m\n\u001b[0m\u001b[1;32m    212\u001b[0m \u001b[0;34m\u001b[0m\u001b[0m\n\u001b[1;32m    213\u001b[0m     \u001b[0m_HANDLED_TYPES\u001b[0m \u001b[0;34m=\u001b[0m \u001b[0;34m(\u001b[0m\u001b[0mnp\u001b[0m\u001b[0;34m.\u001b[0m\u001b[0mndarray\u001b[0m\u001b[0;34m,\u001b[0m \u001b[0mnumbers\u001b[0m\u001b[0;34m.\u001b[0m\u001b[0mNumber\u001b[0m\u001b[0;34m)\u001b[0m\u001b[0;34m\u001b[0m\u001b[0;34m\u001b[0m\u001b[0m\n",
            "\u001b[0;32m/usr/local/lib/python3.7/dist-packages/numpy/core/_asarray.py\u001b[0m in \u001b[0;36masarray\u001b[0;34m(a, dtype, order)\u001b[0m\n\u001b[1;32m     81\u001b[0m \u001b[0;34m\u001b[0m\u001b[0m\n\u001b[1;32m     82\u001b[0m     \"\"\"\n\u001b[0;32m---> 83\u001b[0;31m     \u001b[0;32mreturn\u001b[0m \u001b[0marray\u001b[0m\u001b[0;34m(\u001b[0m\u001b[0ma\u001b[0m\u001b[0;34m,\u001b[0m \u001b[0mdtype\u001b[0m\u001b[0;34m,\u001b[0m \u001b[0mcopy\u001b[0m\u001b[0;34m=\u001b[0m\u001b[0;32mFalse\u001b[0m\u001b[0;34m,\u001b[0m \u001b[0morder\u001b[0m\u001b[0;34m=\u001b[0m\u001b[0morder\u001b[0m\u001b[0;34m)\u001b[0m\u001b[0;34m\u001b[0m\u001b[0;34m\u001b[0m\u001b[0m\n\u001b[0m\u001b[1;32m     84\u001b[0m \u001b[0;34m\u001b[0m\u001b[0m\n\u001b[1;32m     85\u001b[0m \u001b[0;34m\u001b[0m\u001b[0m\n",
            "\u001b[0;31mValueError\u001b[0m: could not convert string to float: 'No'"
          ]
        }
      ]
    },
    {
      "cell_type": "code",
      "metadata": {
        "colab": {
          "base_uri": "https://localhost:8080/"
        },
        "id": "jEDK7NDr047I",
        "outputId": "9bc54178-de10-420d-c7e2-79c3d51697b4"
      },
      "source": [
        "train.to_csv"
      ],
      "execution_count": 47,
      "outputs": [
        {
          "output_type": "execute_result",
          "data": {
            "text/plain": [
              "<bound method NDFrame.to_csv of                   Date  Temperature  Humidity  ... Hour  Minute  Second\n",
              "ID                                             ...                     \n",
              "1     01-01-2016 00:00         67.0        82  ...    0       0       0\n",
              "2     01-01-2016 01:00         68.0        77  ...    1       0       0\n",
              "3     01-01-2016 02:00         64.0        76  ...    2       0       0\n",
              "4     01-01-2016 03:00         63.0        80  ...    3       0       0\n",
              "5     01-01-2016 04:00         65.0        81  ...    4       0       0\n",
              "...                ...          ...       ...  ...  ...     ...     ...\n",
              "7901  25-11-2016 04:00         60.0        81  ...    4       0       0\n",
              "7902  25-11-2016 05:00         63.0        81  ...    5       0       0\n",
              "7903  25-11-2016 06:00         60.0        83  ...    6       0       0\n",
              "7904  25-11-2016 07:00         63.0        80  ...    7       0       0\n",
              "7905  25-11-2016 08:00         67.0        77  ...    8       0       0\n",
              "\n",
              "[7905 rows x 28 columns]>"
            ]
          },
          "metadata": {},
          "execution_count": 47
        }
      ]
    },
    {
      "cell_type": "code",
      "metadata": {
        "id": "XzH9bRe909MC",
        "outputId": "4be09e17-909a-40c0-fb9c-24c24cfcef6a",
        "colab": {
          "base_uri": "https://localhost:8080/"
        }
      },
      "source": [
        "from sklearn.metrics import confusion_matrix\n",
        "confusion_matrix(y_test, predicted_classes)"
      ],
      "execution_count": 58,
      "outputs": [
        {
          "output_type": "execute_result",
          "data": {
            "text/plain": [
              "array([[5480,    2],\n",
              "       [  20,   32]])"
            ]
          },
          "metadata": {},
          "execution_count": 58
        }
      ]
    },
    {
      "cell_type": "code",
      "metadata": {
        "id": "PjXTZtH6dl63",
        "outputId": "0afe8aa1-b3f3-49d6-86bb-d34a0742846e",
        "colab": {
          "base_uri": "https://localhost:8080/"
        }
      },
      "source": [
        " from sklearn.metrics import classification_report\n",
        "print(classification_report(y_test, predicted_classes))"
      ],
      "execution_count": 59,
      "outputs": [
        {
          "output_type": "stream",
          "name": "stdout",
          "text": [
            "              precision    recall  f1-score   support\n",
            "\n",
            "          No       1.00      1.00      1.00      5482\n",
            "         Yes       0.94      0.62      0.74        52\n",
            "\n",
            "    accuracy                           1.00      5534\n",
            "   macro avg       0.97      0.81      0.87      5534\n",
            "weighted avg       1.00      1.00      1.00      5534\n",
            "\n"
          ]
        }
      ]
    },
    {
      "cell_type": "code",
      "metadata": {
        "id": "Enga0-8wfLzO",
        "outputId": "f1a9994c-e223-441f-cc6a-de2605717d64",
        "colab": {
          "base_uri": "https://localhost:8080/"
        }
      },
      "source": [
        "from sklearn.metrics import accuracy_score\n",
        "\n",
        "accuracy_score(y_test,predicted_classes)"
      ],
      "execution_count": 61,
      "outputs": [
        {
          "output_type": "execute_result",
          "data": {
            "text/plain": [
              "0.9960245753523672"
            ]
          },
          "metadata": {},
          "execution_count": 61
        }
      ]
    },
    {
      "cell_type": "code",
      "metadata": {
        "id": "HfH1R2XQgMoz",
        "outputId": "ecdbbcc4-c19e-4b9e-c60a-3e83fab7bb56",
        "colab": {
          "base_uri": "https://localhost:8080/",
          "height": 455
        }
      },
      "source": [
        "X_test"
      ],
      "execution_count": 63,
      "outputs": [
        {
          "output_type": "execute_result",
          "data": {
            "text/html": [
              "<div>\n",
              "<style scoped>\n",
              "    .dataframe tbody tr th:only-of-type {\n",
              "        vertical-align: middle;\n",
              "    }\n",
              "\n",
              "    .dataframe tbody tr th {\n",
              "        vertical-align: top;\n",
              "    }\n",
              "\n",
              "    .dataframe thead th {\n",
              "        text-align: right;\n",
              "    }\n",
              "</style>\n",
              "<table border=\"1\" class=\"dataframe\">\n",
              "  <thead>\n",
              "    <tr style=\"text-align: right;\">\n",
              "      <th></th>\n",
              "      <th>Temperature</th>\n",
              "      <th>Humidity</th>\n",
              "      <th>Hours_since_prev</th>\n",
              "      <th>Year</th>\n",
              "      <th>Month</th>\n",
              "      <th>Day</th>\n",
              "      <th>Week</th>\n",
              "    </tr>\n",
              "    <tr>\n",
              "      <th>ID</th>\n",
              "      <th></th>\n",
              "      <th></th>\n",
              "      <th></th>\n",
              "      <th></th>\n",
              "      <th></th>\n",
              "      <th></th>\n",
              "      <th></th>\n",
              "    </tr>\n",
              "  </thead>\n",
              "  <tbody>\n",
              "    <tr>\n",
              "      <th>6974</th>\n",
              "      <td>61.0</td>\n",
              "      <td>82</td>\n",
              "      <td>83</td>\n",
              "      <td>2016</td>\n",
              "      <td>10</td>\n",
              "      <td>17</td>\n",
              "      <td>1</td>\n",
              "    </tr>\n",
              "    <tr>\n",
              "      <th>2355</th>\n",
              "      <td>63.0</td>\n",
              "      <td>87</td>\n",
              "      <td>522</td>\n",
              "      <td>2016</td>\n",
              "      <td>4</td>\n",
              "      <td>8</td>\n",
              "      <td>5</td>\n",
              "    </tr>\n",
              "    <tr>\n",
              "      <th>3091</th>\n",
              "      <td>64.0</td>\n",
              "      <td>80</td>\n",
              "      <td>273</td>\n",
              "      <td>2016</td>\n",
              "      <td>5</td>\n",
              "      <td>8</td>\n",
              "      <td>7</td>\n",
              "    </tr>\n",
              "    <tr>\n",
              "      <th>5893</th>\n",
              "      <td>62.0</td>\n",
              "      <td>83</td>\n",
              "      <td>261</td>\n",
              "      <td>2016</td>\n",
              "      <td>9</td>\n",
              "      <td>2</td>\n",
              "      <td>5</td>\n",
              "    </tr>\n",
              "    <tr>\n",
              "      <th>6232</th>\n",
              "      <td>61.0</td>\n",
              "      <td>88</td>\n",
              "      <td>214</td>\n",
              "      <td>2016</td>\n",
              "      <td>9</td>\n",
              "      <td>16</td>\n",
              "      <td>5</td>\n",
              "    </tr>\n",
              "    <tr>\n",
              "      <th>...</th>\n",
              "      <td>...</td>\n",
              "      <td>...</td>\n",
              "      <td>...</td>\n",
              "      <td>...</td>\n",
              "      <td>...</td>\n",
              "      <td>...</td>\n",
              "      <td>...</td>\n",
              "    </tr>\n",
              "    <tr>\n",
              "      <th>3024</th>\n",
              "      <td>60.0</td>\n",
              "      <td>81</td>\n",
              "      <td>206</td>\n",
              "      <td>2016</td>\n",
              "      <td>5</td>\n",
              "      <td>5</td>\n",
              "      <td>4</td>\n",
              "    </tr>\n",
              "    <tr>\n",
              "      <th>5632</th>\n",
              "      <td>64.0</td>\n",
              "      <td>83</td>\n",
              "      <td>513</td>\n",
              "      <td>2016</td>\n",
              "      <td>8</td>\n",
              "      <td>22</td>\n",
              "      <td>1</td>\n",
              "    </tr>\n",
              "    <tr>\n",
              "      <th>7229</th>\n",
              "      <td>60.0</td>\n",
              "      <td>89</td>\n",
              "      <td>338</td>\n",
              "      <td>2016</td>\n",
              "      <td>10</td>\n",
              "      <td>28</td>\n",
              "      <td>5</td>\n",
              "    </tr>\n",
              "    <tr>\n",
              "      <th>1041</th>\n",
              "      <td>61.0</td>\n",
              "      <td>84</td>\n",
              "      <td>2</td>\n",
              "      <td>2016</td>\n",
              "      <td>2</td>\n",
              "      <td>13</td>\n",
              "      <td>6</td>\n",
              "    </tr>\n",
              "    <tr>\n",
              "      <th>515</th>\n",
              "      <td>62.0</td>\n",
              "      <td>82</td>\n",
              "      <td>366</td>\n",
              "      <td>2016</td>\n",
              "      <td>1</td>\n",
              "      <td>22</td>\n",
              "      <td>5</td>\n",
              "    </tr>\n",
              "  </tbody>\n",
              "</table>\n",
              "<p>5534 rows × 7 columns</p>\n",
              "</div>"
            ],
            "text/plain": [
              "      Temperature  Humidity  Hours_since_prev  Year  Month  Day  Week\n",
              "ID                                                                   \n",
              "6974         61.0        82                83  2016     10   17     1\n",
              "2355         63.0        87               522  2016      4    8     5\n",
              "3091         64.0        80               273  2016      5    8     7\n",
              "5893         62.0        83               261  2016      9    2     5\n",
              "6232         61.0        88               214  2016      9   16     5\n",
              "...           ...       ...               ...   ...    ...  ...   ...\n",
              "3024         60.0        81               206  2016      5    5     4\n",
              "5632         64.0        83               513  2016      8   22     1\n",
              "7229         60.0        89               338  2016     10   28     5\n",
              "1041         61.0        84                 2  2016      2   13     6\n",
              "515          62.0        82               366  2016      1   22     5\n",
              "\n",
              "[5534 rows x 7 columns]"
            ]
          },
          "metadata": {},
          "execution_count": 63
        }
      ]
    },
    {
      "cell_type": "code",
      "metadata": {
        "id": "HQ1CbY_LgXJq",
        "outputId": "ef7424b2-4a6e-4c5d-d223-673f602d69d5",
        "colab": {
          "base_uri": "https://localhost:8080/"
        }
      },
      "source": [
        "model.predict([[61,82,83,2016,10,17,1]])"
      ],
      "execution_count": 66,
      "outputs": [
        {
          "output_type": "stream",
          "name": "stderr",
          "text": [
            "/usr/local/lib/python3.7/dist-packages/sklearn/base.py:446: UserWarning: X does not have valid feature names, but LogisticRegression was fitted with feature names\n",
            "  \"X does not have valid feature names, but\"\n"
          ]
        },
        {
          "output_type": "execute_result",
          "data": {
            "text/plain": [
              "array(['No'], dtype=object)"
            ]
          },
          "metadata": {},
          "execution_count": 66
        }
      ]
    },
    {
      "cell_type": "code",
      "metadata": {
        "id": "E8DEAMZYgkpw",
        "outputId": "38127cbe-0b52-4785-dae5-cd6035ff73ab",
        "colab": {
          "base_uri": "https://localhost:8080/"
        }
      },
      "source": [
        "predicted_classes"
      ],
      "execution_count": 67,
      "outputs": [
        {
          "output_type": "execute_result",
          "data": {
            "text/plain": [
              "array(['No', 'No', 'No', ..., 'No', 'No', 'No'], dtype=object)"
            ]
          },
          "metadata": {},
          "execution_count": 67
        }
      ]
    },
    {
      "cell_type": "code",
      "metadata": {
        "id": "tnMAin4kgxhA",
        "outputId": "c6200742-4947-42cd-8a6a-9fd756af2c8c",
        "colab": {
          "base_uri": "https://localhost:8080/"
        }
      },
      "source": [
        "predictions\n"
      ],
      "execution_count": 68,
      "outputs": [
        {
          "output_type": "execute_result",
          "data": {
            "text/plain": [
              "0       No\n",
              "1       No\n",
              "2       No\n",
              "3       No\n",
              "4       No\n",
              "        ..\n",
              "5529    No\n",
              "5530    No\n",
              "5531    No\n",
              "5532    No\n",
              "5533    No\n",
              "Length: 5534, dtype: object"
            ]
          },
          "metadata": {},
          "execution_count": 68
        }
      ]
    },
    {
      "cell_type": "code",
      "metadata": {
        "id": "pHhYzYk8g2Fr"
      },
      "source": [
        ""
      ],
      "execution_count": 69,
      "outputs": []
    },
    {
      "cell_type": "code",
      "metadata": {
        "id": "QKzFIEvlg-KP"
      },
      "source": [
        ""
      ],
      "execution_count": null,
      "outputs": []
    }
  ]
}