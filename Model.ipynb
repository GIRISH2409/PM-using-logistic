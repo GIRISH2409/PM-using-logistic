{
  "nbformat": 4,
  "nbformat_minor": 0,
  "metadata": {
    "colab": {
      "name": "Model.ipynb",
      "provenance": [],
      "authorship_tag": "ABX9TyNX4PVRiGvs4URlg99Umwif",
      "include_colab_link": true
    },
    "kernelspec": {
      "name": "python3",
      "display_name": "Python 3"
    },
    "language_info": {
      "name": "python"
    }
  },
  "cells": [
    {
      "cell_type": "markdown",
      "metadata": {
        "id": "view-in-github",
        "colab_type": "text"
      },
      "source": [
        "<a href=\"https://colab.research.google.com/github/GIRISH2409/PM-using-logistic/blob/main/Model.ipynb\" target=\"_parent\"><img src=\"https://colab.research.google.com/assets/colab-badge.svg\" alt=\"Open In Colab\"/></a>"
      ]
    },
    {
      "cell_type": "code",
      "metadata": {
        "colab": {
          "base_uri": "https://localhost:8080/",
          "height": 1000
        },
        "id": "94fNyq2VxuvR",
        "outputId": "9460cb5e-c1fb-464b-a3e0-15d3cf4f7589"
      },
      "source": [
        "\n",
        "import pandas as pd\n",
        "import numpy as np\n",
        "import matplotlib.pyplot as plt\n",
        "import seaborn as sns\n",
        "%matplotlib inline\n",
        "train = pd.read_csv('/content/train.csv', index_col = 0 )\n",
        "train.head(15)"
      ],
      "execution_count": 1,
      "outputs": [
        {
          "output_type": "execute_result",
          "data": {
            "text/html": [
              "<div>\n",
              "<style scoped>\n",
              "    .dataframe tbody tr th:only-of-type {\n",
              "        vertical-align: middle;\n",
              "    }\n",
              "\n",
              "    .dataframe tbody tr th {\n",
              "        vertical-align: top;\n",
              "    }\n",
              "\n",
              "    .dataframe thead th {\n",
              "        text-align: right;\n",
              "    }\n",
              "</style>\n",
              "<table border=\"1\" class=\"dataframe\">\n",
              "  <thead>\n",
              "    <tr style=\"text-align: right;\">\n",
              "      <th></th>\n",
              "      <th>Date</th>\n",
              "      <th>Temperature</th>\n",
              "      <th>Humidity</th>\n",
              "      <th>Operator</th>\n",
              "      <th>Measure1</th>\n",
              "      <th>Measure2</th>\n",
              "      <th>Measure3</th>\n",
              "      <th>Measure4</th>\n",
              "      <th>Measure5</th>\n",
              "      <th>Measure6</th>\n",
              "      <th>Measure7</th>\n",
              "      <th>Measure8</th>\n",
              "      <th>Measure9</th>\n",
              "      <th>Measure10</th>\n",
              "      <th>Measure11</th>\n",
              "      <th>Measure12</th>\n",
              "      <th>Measure13</th>\n",
              "      <th>Measure14</th>\n",
              "      <th>Measure15</th>\n",
              "      <th>Hours Since Previous Failure</th>\n",
              "      <th>Failure</th>\n",
              "      <th>?Date.year</th>\n",
              "      <th>?Date.month</th>\n",
              "      <th>?Date.day-of-month</th>\n",
              "      <th>?Date.day-of-week</th>\n",
              "      <th>?Date.hour</th>\n",
              "      <th>?Date.minute</th>\n",
              "      <th>?Date.second</th>\n",
              "    </tr>\n",
              "    <tr>\n",
              "      <th>ID</th>\n",
              "      <th></th>\n",
              "      <th></th>\n",
              "      <th></th>\n",
              "      <th></th>\n",
              "      <th></th>\n",
              "      <th></th>\n",
              "      <th></th>\n",
              "      <th></th>\n",
              "      <th></th>\n",
              "      <th></th>\n",
              "      <th></th>\n",
              "      <th></th>\n",
              "      <th></th>\n",
              "      <th></th>\n",
              "      <th></th>\n",
              "      <th></th>\n",
              "      <th></th>\n",
              "      <th></th>\n",
              "      <th></th>\n",
              "      <th></th>\n",
              "      <th></th>\n",
              "      <th></th>\n",
              "      <th></th>\n",
              "      <th></th>\n",
              "      <th></th>\n",
              "      <th></th>\n",
              "      <th></th>\n",
              "      <th></th>\n",
              "    </tr>\n",
              "  </thead>\n",
              "  <tbody>\n",
              "    <tr>\n",
              "      <th>1</th>\n",
              "      <td>01-01-2016 00:00</td>\n",
              "      <td>67</td>\n",
              "      <td>82</td>\n",
              "      <td>Operator1</td>\n",
              "      <td>291</td>\n",
              "      <td>1</td>\n",
              "      <td>1</td>\n",
              "      <td>1041</td>\n",
              "      <td>846</td>\n",
              "      <td>334</td>\n",
              "      <td>706</td>\n",
              "      <td>1086</td>\n",
              "      <td>256</td>\n",
              "      <td>1295</td>\n",
              "      <td>766</td>\n",
              "      <td>968</td>\n",
              "      <td>1185</td>\n",
              "      <td>1355</td>\n",
              "      <td>1842</td>\n",
              "      <td>90</td>\n",
              "      <td>No</td>\n",
              "      <td>2016</td>\n",
              "      <td>1</td>\n",
              "      <td>1</td>\n",
              "      <td>5</td>\n",
              "      <td>0</td>\n",
              "      <td>0</td>\n",
              "      <td>0</td>\n",
              "    </tr>\n",
              "    <tr>\n",
              "      <th>2</th>\n",
              "      <td>01-01-2016 01:00</td>\n",
              "      <td>68</td>\n",
              "      <td>77</td>\n",
              "      <td>Operator1</td>\n",
              "      <td>1180</td>\n",
              "      <td>1</td>\n",
              "      <td>1</td>\n",
              "      <td>1915</td>\n",
              "      <td>1194</td>\n",
              "      <td>637</td>\n",
              "      <td>1093</td>\n",
              "      <td>524</td>\n",
              "      <td>919</td>\n",
              "      <td>245</td>\n",
              "      <td>403</td>\n",
              "      <td>723</td>\n",
              "      <td>1446</td>\n",
              "      <td>719</td>\n",
              "      <td>748</td>\n",
              "      <td>91</td>\n",
              "      <td>No</td>\n",
              "      <td>2016</td>\n",
              "      <td>1</td>\n",
              "      <td>1</td>\n",
              "      <td>5</td>\n",
              "      <td>1</td>\n",
              "      <td>0</td>\n",
              "      <td>0</td>\n",
              "    </tr>\n",
              "    <tr>\n",
              "      <th>3</th>\n",
              "      <td>01-01-2016 02:00</td>\n",
              "      <td>64</td>\n",
              "      <td>76</td>\n",
              "      <td>Operator1</td>\n",
              "      <td>1406</td>\n",
              "      <td>1</td>\n",
              "      <td>1</td>\n",
              "      <td>511</td>\n",
              "      <td>1577</td>\n",
              "      <td>1121</td>\n",
              "      <td>1948</td>\n",
              "      <td>1882</td>\n",
              "      <td>1301</td>\n",
              "      <td>273</td>\n",
              "      <td>1927</td>\n",
              "      <td>1123</td>\n",
              "      <td>717</td>\n",
              "      <td>1518</td>\n",
              "      <td>1689</td>\n",
              "      <td>92</td>\n",
              "      <td>No</td>\n",
              "      <td>2016</td>\n",
              "      <td>1</td>\n",
              "      <td>1</td>\n",
              "      <td>5</td>\n",
              "      <td>2</td>\n",
              "      <td>0</td>\n",
              "      <td>0</td>\n",
              "    </tr>\n",
              "    <tr>\n",
              "      <th>4</th>\n",
              "      <td>01-01-2016 03:00</td>\n",
              "      <td>63</td>\n",
              "      <td>80</td>\n",
              "      <td>Operator1</td>\n",
              "      <td>550</td>\n",
              "      <td>1</td>\n",
              "      <td>1</td>\n",
              "      <td>1754</td>\n",
              "      <td>1834</td>\n",
              "      <td>1413</td>\n",
              "      <td>1151</td>\n",
              "      <td>945</td>\n",
              "      <td>1312</td>\n",
              "      <td>1494</td>\n",
              "      <td>1755</td>\n",
              "      <td>1434</td>\n",
              "      <td>502</td>\n",
              "      <td>1336</td>\n",
              "      <td>711</td>\n",
              "      <td>93</td>\n",
              "      <td>No</td>\n",
              "      <td>2016</td>\n",
              "      <td>1</td>\n",
              "      <td>1</td>\n",
              "      <td>5</td>\n",
              "      <td>3</td>\n",
              "      <td>0</td>\n",
              "      <td>0</td>\n",
              "    </tr>\n",
              "    <tr>\n",
              "      <th>5</th>\n",
              "      <td>01-01-2016 04:00</td>\n",
              "      <td>65</td>\n",
              "      <td>81</td>\n",
              "      <td>Operator1</td>\n",
              "      <td>1928</td>\n",
              "      <td>1</td>\n",
              "      <td>2</td>\n",
              "      <td>1326</td>\n",
              "      <td>1082</td>\n",
              "      <td>233</td>\n",
              "      <td>1441</td>\n",
              "      <td>1736</td>\n",
              "      <td>1033</td>\n",
              "      <td>1549</td>\n",
              "      <td>802</td>\n",
              "      <td>1819</td>\n",
              "      <td>1616</td>\n",
              "      <td>1507</td>\n",
              "      <td>507</td>\n",
              "      <td>94</td>\n",
              "      <td>No</td>\n",
              "      <td>2016</td>\n",
              "      <td>1</td>\n",
              "      <td>1</td>\n",
              "      <td>5</td>\n",
              "      <td>4</td>\n",
              "      <td>0</td>\n",
              "      <td>0</td>\n",
              "    </tr>\n",
              "    <tr>\n",
              "      <th>6</th>\n",
              "      <td>01-01-2016 05:00</td>\n",
              "      <td>67</td>\n",
              "      <td>84</td>\n",
              "      <td>Operator1</td>\n",
              "      <td>398</td>\n",
              "      <td>1</td>\n",
              "      <td>2</td>\n",
              "      <td>1901</td>\n",
              "      <td>1801</td>\n",
              "      <td>1153</td>\n",
              "      <td>1085</td>\n",
              "      <td>1547</td>\n",
              "      <td>2005</td>\n",
              "      <td>477</td>\n",
              "      <td>1217</td>\n",
              "      <td>1632</td>\n",
              "      <td>1324</td>\n",
              "      <td>1854</td>\n",
              "      <td>1739</td>\n",
              "      <td>95</td>\n",
              "      <td>No</td>\n",
              "      <td>2016</td>\n",
              "      <td>1</td>\n",
              "      <td>1</td>\n",
              "      <td>5</td>\n",
              "      <td>5</td>\n",
              "      <td>0</td>\n",
              "      <td>0</td>\n",
              "    </tr>\n",
              "    <tr>\n",
              "      <th>7</th>\n",
              "      <td>01-01-2016 06:00</td>\n",
              "      <td>67</td>\n",
              "      <td>83</td>\n",
              "      <td>Operator1</td>\n",
              "      <td>847</td>\n",
              "      <td>0</td>\n",
              "      <td>2</td>\n",
              "      <td>1849</td>\n",
              "      <td>1141</td>\n",
              "      <td>1609</td>\n",
              "      <td>982</td>\n",
              "      <td>1159</td>\n",
              "      <td>672</td>\n",
              "      <td>1128</td>\n",
              "      <td>663</td>\n",
              "      <td>1114</td>\n",
              "      <td>1838</td>\n",
              "      <td>290</td>\n",
              "      <td>1192</td>\n",
              "      <td>96</td>\n",
              "      <td>No</td>\n",
              "      <td>2016</td>\n",
              "      <td>1</td>\n",
              "      <td>1</td>\n",
              "      <td>5</td>\n",
              "      <td>6</td>\n",
              "      <td>0</td>\n",
              "      <td>0</td>\n",
              "    </tr>\n",
              "    <tr>\n",
              "      <th>8</th>\n",
              "      <td>01-01-2016 07:00</td>\n",
              "      <td>67</td>\n",
              "      <td>76</td>\n",
              "      <td>Operator1</td>\n",
              "      <td>1021</td>\n",
              "      <td>2</td>\n",
              "      <td>1</td>\n",
              "      <td>185</td>\n",
              "      <td>170</td>\n",
              "      <td>952</td>\n",
              "      <td>1183</td>\n",
              "      <td>1329</td>\n",
              "      <td>427</td>\n",
              "      <td>1638</td>\n",
              "      <td>850</td>\n",
              "      <td>379</td>\n",
              "      <td>1529</td>\n",
              "      <td>755</td>\n",
              "      <td>844</td>\n",
              "      <td>97</td>\n",
              "      <td>No</td>\n",
              "      <td>2016</td>\n",
              "      <td>1</td>\n",
              "      <td>1</td>\n",
              "      <td>5</td>\n",
              "      <td>7</td>\n",
              "      <td>0</td>\n",
              "      <td>0</td>\n",
              "    </tr>\n",
              "    <tr>\n",
              "      <th>9</th>\n",
              "      <td>01-01-2016 08:00</td>\n",
              "      <td>65</td>\n",
              "      <td>80</td>\n",
              "      <td>Operator3</td>\n",
              "      <td>1731</td>\n",
              "      <td>2</td>\n",
              "      <td>0</td>\n",
              "      <td>1424</td>\n",
              "      <td>1176</td>\n",
              "      <td>1223</td>\n",
              "      <td>621</td>\n",
              "      <td>647</td>\n",
              "      <td>369</td>\n",
              "      <td>239</td>\n",
              "      <td>1196</td>\n",
              "      <td>1944</td>\n",
              "      <td>1583</td>\n",
              "      <td>1630</td>\n",
              "      <td>237</td>\n",
              "      <td>98</td>\n",
              "      <td>No</td>\n",
              "      <td>2016</td>\n",
              "      <td>1</td>\n",
              "      <td>1</td>\n",
              "      <td>5</td>\n",
              "      <td>8</td>\n",
              "      <td>0</td>\n",
              "      <td>0</td>\n",
              "    </tr>\n",
              "    <tr>\n",
              "      <th>10</th>\n",
              "      <td>01-01-2016 09:00</td>\n",
              "      <td>63</td>\n",
              "      <td>80</td>\n",
              "      <td>Operator3</td>\n",
              "      <td>415</td>\n",
              "      <td>0</td>\n",
              "      <td>0</td>\n",
              "      <td>1008</td>\n",
              "      <td>1086</td>\n",
              "      <td>1759</td>\n",
              "      <td>1946</td>\n",
              "      <td>1814</td>\n",
              "      <td>1754</td>\n",
              "      <td>1442</td>\n",
              "      <td>341</td>\n",
              "      <td>1097</td>\n",
              "      <td>1819</td>\n",
              "      <td>472</td>\n",
              "      <td>491</td>\n",
              "      <td>99</td>\n",
              "      <td>No</td>\n",
              "      <td>2016</td>\n",
              "      <td>1</td>\n",
              "      <td>1</td>\n",
              "      <td>5</td>\n",
              "      <td>9</td>\n",
              "      <td>0</td>\n",
              "      <td>0</td>\n",
              "    </tr>\n",
              "    <tr>\n",
              "      <th>11</th>\n",
              "      <td>01-01-2016 10:00</td>\n",
              "      <td>61</td>\n",
              "      <td>83</td>\n",
              "      <td>Operator3</td>\n",
              "      <td>525</td>\n",
              "      <td>2</td>\n",
              "      <td>2</td>\n",
              "      <td>603</td>\n",
              "      <td>1630</td>\n",
              "      <td>1740</td>\n",
              "      <td>583</td>\n",
              "      <td>646</td>\n",
              "      <td>319</td>\n",
              "      <td>933</td>\n",
              "      <td>1891</td>\n",
              "      <td>1371</td>\n",
              "      <td>1904</td>\n",
              "      <td>1586</td>\n",
              "      <td>1102</td>\n",
              "      <td>100</td>\n",
              "      <td>No</td>\n",
              "      <td>2016</td>\n",
              "      <td>1</td>\n",
              "      <td>1</td>\n",
              "      <td>5</td>\n",
              "      <td>10</td>\n",
              "      <td>0</td>\n",
              "      <td>0</td>\n",
              "    </tr>\n",
              "    <tr>\n",
              "      <th>12</th>\n",
              "      <td>01-01-2016 11:00</td>\n",
              "      <td>62</td>\n",
              "      <td>81</td>\n",
              "      <td>Operator3</td>\n",
              "      <td>1719</td>\n",
              "      <td>3</td>\n",
              "      <td>1</td>\n",
              "      <td>880</td>\n",
              "      <td>575</td>\n",
              "      <td>1722</td>\n",
              "      <td>952</td>\n",
              "      <td>890</td>\n",
              "      <td>669</td>\n",
              "      <td>782</td>\n",
              "      <td>1720</td>\n",
              "      <td>641</td>\n",
              "      <td>1620</td>\n",
              "      <td>1046</td>\n",
              "      <td>1759</td>\n",
              "      <td>101</td>\n",
              "      <td>No</td>\n",
              "      <td>2016</td>\n",
              "      <td>1</td>\n",
              "      <td>1</td>\n",
              "      <td>5</td>\n",
              "      <td>11</td>\n",
              "      <td>0</td>\n",
              "      <td>0</td>\n",
              "    </tr>\n",
              "    <tr>\n",
              "      <th>13</th>\n",
              "      <td>01-01-2016 12:00</td>\n",
              "      <td>62</td>\n",
              "      <td>76</td>\n",
              "      <td>Operator3</td>\n",
              "      <td>1116</td>\n",
              "      <td>0</td>\n",
              "      <td>0</td>\n",
              "      <td>588</td>\n",
              "      <td>166</td>\n",
              "      <td>1233</td>\n",
              "      <td>1362</td>\n",
              "      <td>322</td>\n",
              "      <td>1176</td>\n",
              "      <td>1669</td>\n",
              "      <td>1197</td>\n",
              "      <td>182</td>\n",
              "      <td>1641</td>\n",
              "      <td>1033</td>\n",
              "      <td>1427</td>\n",
              "      <td>102</td>\n",
              "      <td>No</td>\n",
              "      <td>2016</td>\n",
              "      <td>1</td>\n",
              "      <td>1</td>\n",
              "      <td>5</td>\n",
              "      <td>12</td>\n",
              "      <td>0</td>\n",
              "      <td>0</td>\n",
              "    </tr>\n",
              "    <tr>\n",
              "      <th>14</th>\n",
              "      <td>01-01-2016 13:00</td>\n",
              "      <td>60</td>\n",
              "      <td>82</td>\n",
              "      <td>Operator3</td>\n",
              "      <td>282</td>\n",
              "      <td>1</td>\n",
              "      <td>1</td>\n",
              "      <td>1406</td>\n",
              "      <td>1727</td>\n",
              "      <td>945</td>\n",
              "      <td>1631</td>\n",
              "      <td>714</td>\n",
              "      <td>1072</td>\n",
              "      <td>1051</td>\n",
              "      <td>1857</td>\n",
              "      <td>559</td>\n",
              "      <td>1309</td>\n",
              "      <td>1668</td>\n",
              "      <td>1453</td>\n",
              "      <td>103</td>\n",
              "      <td>No</td>\n",
              "      <td>2016</td>\n",
              "      <td>1</td>\n",
              "      <td>1</td>\n",
              "      <td>5</td>\n",
              "      <td>13</td>\n",
              "      <td>0</td>\n",
              "      <td>0</td>\n",
              "    </tr>\n",
              "    <tr>\n",
              "      <th>15</th>\n",
              "      <td>01-01-2016 14:00</td>\n",
              "      <td>61</td>\n",
              "      <td>79</td>\n",
              "      <td>Operator3</td>\n",
              "      <td>637</td>\n",
              "      <td>3</td>\n",
              "      <td>0</td>\n",
              "      <td>821</td>\n",
              "      <td>511</td>\n",
              "      <td>373</td>\n",
              "      <td>951</td>\n",
              "      <td>1151</td>\n",
              "      <td>1200</td>\n",
              "      <td>493</td>\n",
              "      <td>770</td>\n",
              "      <td>1781</td>\n",
              "      <td>1437</td>\n",
              "      <td>1978</td>\n",
              "      <td>1911</td>\n",
              "      <td>104</td>\n",
              "      <td>No</td>\n",
              "      <td>2016</td>\n",
              "      <td>1</td>\n",
              "      <td>1</td>\n",
              "      <td>5</td>\n",
              "      <td>14</td>\n",
              "      <td>0</td>\n",
              "      <td>0</td>\n",
              "    </tr>\n",
              "  </tbody>\n",
              "</table>\n",
              "</div>"
            ],
            "text/plain": [
              "                Date  Temperature  ...  ?Date.minute ?Date.second\n",
              "ID                                 ...                           \n",
              "1   01-01-2016 00:00           67  ...             0            0\n",
              "2   01-01-2016 01:00           68  ...             0            0\n",
              "3   01-01-2016 02:00           64  ...             0            0\n",
              "4   01-01-2016 03:00           63  ...             0            0\n",
              "5   01-01-2016 04:00           65  ...             0            0\n",
              "6   01-01-2016 05:00           67  ...             0            0\n",
              "7   01-01-2016 06:00           67  ...             0            0\n",
              "8   01-01-2016 07:00           67  ...             0            0\n",
              "9   01-01-2016 08:00           65  ...             0            0\n",
              "10  01-01-2016 09:00           63  ...             0            0\n",
              "11  01-01-2016 10:00           61  ...             0            0\n",
              "12  01-01-2016 11:00           62  ...             0            0\n",
              "13  01-01-2016 12:00           62  ...             0            0\n",
              "14  01-01-2016 13:00           60  ...             0            0\n",
              "15  01-01-2016 14:00           61  ...             0            0\n",
              "\n",
              "[15 rows x 28 columns]"
            ]
          },
          "metadata": {},
          "execution_count": 1
        }
      ]
    },
    {
      "cell_type": "code",
      "metadata": {
        "colab": {
          "base_uri": "https://localhost:8080/",
          "height": 372
        },
        "id": "vtw1XMXhyl5C",
        "outputId": "2d437105-7169-498d-e6ff-dc0f89665a2d"
      },
      "source": [
        "train.describe()"
      ],
      "execution_count": 3,
      "outputs": [
        {
          "output_type": "execute_result",
          "data": {
            "text/html": [
              "<div>\n",
              "<style scoped>\n",
              "    .dataframe tbody tr th:only-of-type {\n",
              "        vertical-align: middle;\n",
              "    }\n",
              "\n",
              "    .dataframe tbody tr th {\n",
              "        vertical-align: top;\n",
              "    }\n",
              "\n",
              "    .dataframe thead th {\n",
              "        text-align: right;\n",
              "    }\n",
              "</style>\n",
              "<table border=\"1\" class=\"dataframe\">\n",
              "  <thead>\n",
              "    <tr style=\"text-align: right;\">\n",
              "      <th></th>\n",
              "      <th>Temperature</th>\n",
              "      <th>Humidity</th>\n",
              "      <th>Measure1</th>\n",
              "      <th>Measure2</th>\n",
              "      <th>Measure3</th>\n",
              "      <th>Measure4</th>\n",
              "      <th>Measure5</th>\n",
              "      <th>Measure6</th>\n",
              "      <th>Measure7</th>\n",
              "      <th>Measure8</th>\n",
              "      <th>Measure9</th>\n",
              "      <th>Measure10</th>\n",
              "      <th>Measure11</th>\n",
              "      <th>Measure12</th>\n",
              "      <th>Measure13</th>\n",
              "      <th>Measure14</th>\n",
              "      <th>Measure15</th>\n",
              "      <th>Hours Since Previous Failure</th>\n",
              "      <th>?Date.year</th>\n",
              "      <th>?Date.month</th>\n",
              "      <th>?Date.day-of-month</th>\n",
              "      <th>?Date.day-of-week</th>\n",
              "      <th>?Date.hour</th>\n",
              "      <th>?Date.minute</th>\n",
              "      <th>?Date.second</th>\n",
              "    </tr>\n",
              "  </thead>\n",
              "  <tbody>\n",
              "    <tr>\n",
              "      <th>count</th>\n",
              "      <td>7905.000000</td>\n",
              "      <td>7905.000000</td>\n",
              "      <td>7905.000000</td>\n",
              "      <td>7905.000000</td>\n",
              "      <td>7905.000000</td>\n",
              "      <td>7905.000000</td>\n",
              "      <td>7905.000000</td>\n",
              "      <td>7905.000000</td>\n",
              "      <td>7905.000000</td>\n",
              "      <td>7905.000000</td>\n",
              "      <td>7905.000000</td>\n",
              "      <td>7905.000000</td>\n",
              "      <td>7905.000000</td>\n",
              "      <td>7905.000000</td>\n",
              "      <td>7905.000000</td>\n",
              "      <td>7905.000000</td>\n",
              "      <td>7905.000000</td>\n",
              "      <td>7905.000000</td>\n",
              "      <td>7905.0</td>\n",
              "      <td>7905.000000</td>\n",
              "      <td>7905.000000</td>\n",
              "      <td>7905.000000</td>\n",
              "      <td>7905.000000</td>\n",
              "      <td>7905.0</td>\n",
              "      <td>7905.0</td>\n",
              "    </tr>\n",
              "    <tr>\n",
              "      <th>mean</th>\n",
              "      <td>64.031499</td>\n",
              "      <td>83.708412</td>\n",
              "      <td>1093.461354</td>\n",
              "      <td>1.488931</td>\n",
              "      <td>1.002277</td>\n",
              "      <td>1068.775206</td>\n",
              "      <td>1075.298166</td>\n",
              "      <td>1077.784187</td>\n",
              "      <td>1089.264263</td>\n",
              "      <td>1076.061607</td>\n",
              "      <td>1081.998229</td>\n",
              "      <td>1082.090955</td>\n",
              "      <td>1089.270841</td>\n",
              "      <td>1089.166856</td>\n",
              "      <td>1074.604428</td>\n",
              "      <td>1091.156357</td>\n",
              "      <td>1083.807717</td>\n",
              "      <td>210.322454</td>\n",
              "      <td>2016.0</td>\n",
              "      <td>5.920683</td>\n",
              "      <td>15.530550</td>\n",
              "      <td>4.001139</td>\n",
              "      <td>11.491461</td>\n",
              "      <td>0.0</td>\n",
              "      <td>0.0</td>\n",
              "    </tr>\n",
              "    <tr>\n",
              "      <th>std</th>\n",
              "      <td>2.885008</td>\n",
              "      <td>4.824696</td>\n",
              "      <td>535.519165</td>\n",
              "      <td>1.114934</td>\n",
              "      <td>0.813907</td>\n",
              "      <td>535.608830</td>\n",
              "      <td>533.723885</td>\n",
              "      <td>533.424014</td>\n",
              "      <td>537.138773</td>\n",
              "      <td>537.239794</td>\n",
              "      <td>531.265960</td>\n",
              "      <td>538.058616</td>\n",
              "      <td>534.776963</td>\n",
              "      <td>532.285078</td>\n",
              "      <td>535.351666</td>\n",
              "      <td>536.730228</td>\n",
              "      <td>536.976481</td>\n",
              "      <td>143.846069</td>\n",
              "      <td>0.0</td>\n",
              "      <td>3.115832</td>\n",
              "      <td>8.731102</td>\n",
              "      <td>1.999272</td>\n",
              "      <td>6.923853</td>\n",
              "      <td>0.0</td>\n",
              "      <td>0.0</td>\n",
              "    </tr>\n",
              "    <tr>\n",
              "      <th>min</th>\n",
              "      <td>5.000000</td>\n",
              "      <td>65.000000</td>\n",
              "      <td>155.000000</td>\n",
              "      <td>0.000000</td>\n",
              "      <td>0.000000</td>\n",
              "      <td>155.000000</td>\n",
              "      <td>155.000000</td>\n",
              "      <td>155.000000</td>\n",
              "      <td>155.000000</td>\n",
              "      <td>155.000000</td>\n",
              "      <td>155.000000</td>\n",
              "      <td>155.000000</td>\n",
              "      <td>155.000000</td>\n",
              "      <td>155.000000</td>\n",
              "      <td>155.000000</td>\n",
              "      <td>155.000000</td>\n",
              "      <td>155.000000</td>\n",
              "      <td>1.000000</td>\n",
              "      <td>2016.0</td>\n",
              "      <td>1.000000</td>\n",
              "      <td>1.000000</td>\n",
              "      <td>1.000000</td>\n",
              "      <td>0.000000</td>\n",
              "      <td>0.0</td>\n",
              "      <td>0.0</td>\n",
              "    </tr>\n",
              "    <tr>\n",
              "      <th>25%</th>\n",
              "      <td>62.000000</td>\n",
              "      <td>80.000000</td>\n",
              "      <td>633.000000</td>\n",
              "      <td>0.000000</td>\n",
              "      <td>0.000000</td>\n",
              "      <td>605.000000</td>\n",
              "      <td>604.000000</td>\n",
              "      <td>626.000000</td>\n",
              "      <td>625.000000</td>\n",
              "      <td>609.000000</td>\n",
              "      <td>634.000000</td>\n",
              "      <td>618.000000</td>\n",
              "      <td>628.000000</td>\n",
              "      <td>630.000000</td>\n",
              "      <td>605.000000</td>\n",
              "      <td>621.000000</td>\n",
              "      <td>616.000000</td>\n",
              "      <td>89.000000</td>\n",
              "      <td>2016.0</td>\n",
              "      <td>3.000000</td>\n",
              "      <td>8.000000</td>\n",
              "      <td>2.000000</td>\n",
              "      <td>5.000000</td>\n",
              "      <td>0.0</td>\n",
              "      <td>0.0</td>\n",
              "    </tr>\n",
              "    <tr>\n",
              "      <th>50%</th>\n",
              "      <td>64.000000</td>\n",
              "      <td>84.000000</td>\n",
              "      <td>1099.000000</td>\n",
              "      <td>2.000000</td>\n",
              "      <td>1.000000</td>\n",
              "      <td>1056.000000</td>\n",
              "      <td>1075.000000</td>\n",
              "      <td>1073.000000</td>\n",
              "      <td>1091.000000</td>\n",
              "      <td>1073.000000</td>\n",
              "      <td>1076.000000</td>\n",
              "      <td>1077.000000</td>\n",
              "      <td>1093.000000</td>\n",
              "      <td>1081.000000</td>\n",
              "      <td>1064.000000</td>\n",
              "      <td>1090.000000</td>\n",
              "      <td>1078.000000</td>\n",
              "      <td>192.000000</td>\n",
              "      <td>2016.0</td>\n",
              "      <td>6.000000</td>\n",
              "      <td>15.000000</td>\n",
              "      <td>4.000000</td>\n",
              "      <td>11.000000</td>\n",
              "      <td>0.0</td>\n",
              "      <td>0.0</td>\n",
              "    </tr>\n",
              "    <tr>\n",
              "      <th>75%</th>\n",
              "      <td>66.000000</td>\n",
              "      <td>87.000000</td>\n",
              "      <td>1556.000000</td>\n",
              "      <td>2.000000</td>\n",
              "      <td>2.000000</td>\n",
              "      <td>1530.000000</td>\n",
              "      <td>1542.000000</td>\n",
              "      <td>1541.000000</td>\n",
              "      <td>1561.000000</td>\n",
              "      <td>1540.000000</td>\n",
              "      <td>1527.000000</td>\n",
              "      <td>1547.000000</td>\n",
              "      <td>1548.000000</td>\n",
              "      <td>1551.000000</td>\n",
              "      <td>1537.000000</td>\n",
              "      <td>1564.000000</td>\n",
              "      <td>1552.000000</td>\n",
              "      <td>314.000000</td>\n",
              "      <td>2016.0</td>\n",
              "      <td>9.000000</td>\n",
              "      <td>23.000000</td>\n",
              "      <td>6.000000</td>\n",
              "      <td>17.000000</td>\n",
              "      <td>0.0</td>\n",
              "      <td>0.0</td>\n",
              "    </tr>\n",
              "    <tr>\n",
              "      <th>max</th>\n",
              "      <td>78.000000</td>\n",
              "      <td>122.000000</td>\n",
              "      <td>2011.000000</td>\n",
              "      <td>3.000000</td>\n",
              "      <td>2.000000</td>\n",
              "      <td>2011.000000</td>\n",
              "      <td>2011.000000</td>\n",
              "      <td>2011.000000</td>\n",
              "      <td>2011.000000</td>\n",
              "      <td>2011.000000</td>\n",
              "      <td>2011.000000</td>\n",
              "      <td>2011.000000</td>\n",
              "      <td>2011.000000</td>\n",
              "      <td>2011.000000</td>\n",
              "      <td>2011.000000</td>\n",
              "      <td>2011.000000</td>\n",
              "      <td>2011.000000</td>\n",
              "      <td>597.000000</td>\n",
              "      <td>2016.0</td>\n",
              "      <td>11.000000</td>\n",
              "      <td>31.000000</td>\n",
              "      <td>7.000000</td>\n",
              "      <td>23.000000</td>\n",
              "      <td>0.0</td>\n",
              "      <td>0.0</td>\n",
              "    </tr>\n",
              "  </tbody>\n",
              "</table>\n",
              "</div>"
            ],
            "text/plain": [
              "       Temperature     Humidity  ...  ?Date.minute  ?Date.second\n",
              "count  7905.000000  7905.000000  ...        7905.0        7905.0\n",
              "mean     64.031499    83.708412  ...           0.0           0.0\n",
              "std       2.885008     4.824696  ...           0.0           0.0\n",
              "min       5.000000    65.000000  ...           0.0           0.0\n",
              "25%      62.000000    80.000000  ...           0.0           0.0\n",
              "50%      64.000000    84.000000  ...           0.0           0.0\n",
              "75%      66.000000    87.000000  ...           0.0           0.0\n",
              "max      78.000000   122.000000  ...           0.0           0.0\n",
              "\n",
              "[8 rows x 25 columns]"
            ]
          },
          "metadata": {},
          "execution_count": 3
        }
      ]
    },
    {
      "cell_type": "code",
      "metadata": {
        "id": "ub92Wi5TyyVB"
      },
      "source": [
        "train.columns = ['Date', 'Temperature', 'Humidity', 'Operator', 'Measure1', 'Measure2',\n",
        "           'Measure3', 'Measure4', 'Measure5', 'Measure6', 'Measure7', 'Measure8', 'Measure9', 'Measure10', 'Measure11', 'Measure12', 'Measure13', 'Measure14','Measure15', 'Hours_since_prev', 'Failure', 'Year', 'Month', 'Day', 'Week', 'Hour','Minute', 'Second']"
      ],
      "execution_count": 4,
      "outputs": []
    },
    {
      "cell_type": "code",
      "metadata": {
        "colab": {
          "base_uri": "https://localhost:8080/",
          "height": 320
        },
        "id": "tykelHlbzGqb",
        "outputId": "6c67bc0f-7d1f-4ecd-fc51-48d046c96bbe"
      },
      "source": [
        "train.describe()"
      ],
      "execution_count": 5,
      "outputs": [
        {
          "output_type": "execute_result",
          "data": {
            "text/html": [
              "<div>\n",
              "<style scoped>\n",
              "    .dataframe tbody tr th:only-of-type {\n",
              "        vertical-align: middle;\n",
              "    }\n",
              "\n",
              "    .dataframe tbody tr th {\n",
              "        vertical-align: top;\n",
              "    }\n",
              "\n",
              "    .dataframe thead th {\n",
              "        text-align: right;\n",
              "    }\n",
              "</style>\n",
              "<table border=\"1\" class=\"dataframe\">\n",
              "  <thead>\n",
              "    <tr style=\"text-align: right;\">\n",
              "      <th></th>\n",
              "      <th>Temperature</th>\n",
              "      <th>Humidity</th>\n",
              "      <th>Measure1</th>\n",
              "      <th>Measure2</th>\n",
              "      <th>Measure3</th>\n",
              "      <th>Measure4</th>\n",
              "      <th>Measure5</th>\n",
              "      <th>Measure6</th>\n",
              "      <th>Measure7</th>\n",
              "      <th>Measure8</th>\n",
              "      <th>Measure9</th>\n",
              "      <th>Measure10</th>\n",
              "      <th>Measure11</th>\n",
              "      <th>Measure12</th>\n",
              "      <th>Measure13</th>\n",
              "      <th>Measure14</th>\n",
              "      <th>Measure15</th>\n",
              "      <th>Hours_since_prev</th>\n",
              "      <th>Year</th>\n",
              "      <th>Month</th>\n",
              "      <th>Day</th>\n",
              "      <th>Week</th>\n",
              "      <th>Hour</th>\n",
              "      <th>Minute</th>\n",
              "      <th>Second</th>\n",
              "    </tr>\n",
              "  </thead>\n",
              "  <tbody>\n",
              "    <tr>\n",
              "      <th>count</th>\n",
              "      <td>7905.000000</td>\n",
              "      <td>7905.000000</td>\n",
              "      <td>7905.000000</td>\n",
              "      <td>7905.000000</td>\n",
              "      <td>7905.000000</td>\n",
              "      <td>7905.000000</td>\n",
              "      <td>7905.000000</td>\n",
              "      <td>7905.000000</td>\n",
              "      <td>7905.000000</td>\n",
              "      <td>7905.000000</td>\n",
              "      <td>7905.000000</td>\n",
              "      <td>7905.000000</td>\n",
              "      <td>7905.000000</td>\n",
              "      <td>7905.000000</td>\n",
              "      <td>7905.000000</td>\n",
              "      <td>7905.000000</td>\n",
              "      <td>7905.000000</td>\n",
              "      <td>7905.000000</td>\n",
              "      <td>7905.0</td>\n",
              "      <td>7905.000000</td>\n",
              "      <td>7905.000000</td>\n",
              "      <td>7905.000000</td>\n",
              "      <td>7905.000000</td>\n",
              "      <td>7905.0</td>\n",
              "      <td>7905.0</td>\n",
              "    </tr>\n",
              "    <tr>\n",
              "      <th>mean</th>\n",
              "      <td>64.031499</td>\n",
              "      <td>83.708412</td>\n",
              "      <td>1093.461354</td>\n",
              "      <td>1.488931</td>\n",
              "      <td>1.002277</td>\n",
              "      <td>1068.775206</td>\n",
              "      <td>1075.298166</td>\n",
              "      <td>1077.784187</td>\n",
              "      <td>1089.264263</td>\n",
              "      <td>1076.061607</td>\n",
              "      <td>1081.998229</td>\n",
              "      <td>1082.090955</td>\n",
              "      <td>1089.270841</td>\n",
              "      <td>1089.166856</td>\n",
              "      <td>1074.604428</td>\n",
              "      <td>1091.156357</td>\n",
              "      <td>1083.807717</td>\n",
              "      <td>210.322454</td>\n",
              "      <td>2016.0</td>\n",
              "      <td>5.920683</td>\n",
              "      <td>15.530550</td>\n",
              "      <td>4.001139</td>\n",
              "      <td>11.491461</td>\n",
              "      <td>0.0</td>\n",
              "      <td>0.0</td>\n",
              "    </tr>\n",
              "    <tr>\n",
              "      <th>std</th>\n",
              "      <td>2.885008</td>\n",
              "      <td>4.824696</td>\n",
              "      <td>535.519165</td>\n",
              "      <td>1.114934</td>\n",
              "      <td>0.813907</td>\n",
              "      <td>535.608830</td>\n",
              "      <td>533.723885</td>\n",
              "      <td>533.424014</td>\n",
              "      <td>537.138773</td>\n",
              "      <td>537.239794</td>\n",
              "      <td>531.265960</td>\n",
              "      <td>538.058616</td>\n",
              "      <td>534.776963</td>\n",
              "      <td>532.285078</td>\n",
              "      <td>535.351666</td>\n",
              "      <td>536.730228</td>\n",
              "      <td>536.976481</td>\n",
              "      <td>143.846069</td>\n",
              "      <td>0.0</td>\n",
              "      <td>3.115832</td>\n",
              "      <td>8.731102</td>\n",
              "      <td>1.999272</td>\n",
              "      <td>6.923853</td>\n",
              "      <td>0.0</td>\n",
              "      <td>0.0</td>\n",
              "    </tr>\n",
              "    <tr>\n",
              "      <th>min</th>\n",
              "      <td>5.000000</td>\n",
              "      <td>65.000000</td>\n",
              "      <td>155.000000</td>\n",
              "      <td>0.000000</td>\n",
              "      <td>0.000000</td>\n",
              "      <td>155.000000</td>\n",
              "      <td>155.000000</td>\n",
              "      <td>155.000000</td>\n",
              "      <td>155.000000</td>\n",
              "      <td>155.000000</td>\n",
              "      <td>155.000000</td>\n",
              "      <td>155.000000</td>\n",
              "      <td>155.000000</td>\n",
              "      <td>155.000000</td>\n",
              "      <td>155.000000</td>\n",
              "      <td>155.000000</td>\n",
              "      <td>155.000000</td>\n",
              "      <td>1.000000</td>\n",
              "      <td>2016.0</td>\n",
              "      <td>1.000000</td>\n",
              "      <td>1.000000</td>\n",
              "      <td>1.000000</td>\n",
              "      <td>0.000000</td>\n",
              "      <td>0.0</td>\n",
              "      <td>0.0</td>\n",
              "    </tr>\n",
              "    <tr>\n",
              "      <th>25%</th>\n",
              "      <td>62.000000</td>\n",
              "      <td>80.000000</td>\n",
              "      <td>633.000000</td>\n",
              "      <td>0.000000</td>\n",
              "      <td>0.000000</td>\n",
              "      <td>605.000000</td>\n",
              "      <td>604.000000</td>\n",
              "      <td>626.000000</td>\n",
              "      <td>625.000000</td>\n",
              "      <td>609.000000</td>\n",
              "      <td>634.000000</td>\n",
              "      <td>618.000000</td>\n",
              "      <td>628.000000</td>\n",
              "      <td>630.000000</td>\n",
              "      <td>605.000000</td>\n",
              "      <td>621.000000</td>\n",
              "      <td>616.000000</td>\n",
              "      <td>89.000000</td>\n",
              "      <td>2016.0</td>\n",
              "      <td>3.000000</td>\n",
              "      <td>8.000000</td>\n",
              "      <td>2.000000</td>\n",
              "      <td>5.000000</td>\n",
              "      <td>0.0</td>\n",
              "      <td>0.0</td>\n",
              "    </tr>\n",
              "    <tr>\n",
              "      <th>50%</th>\n",
              "      <td>64.000000</td>\n",
              "      <td>84.000000</td>\n",
              "      <td>1099.000000</td>\n",
              "      <td>2.000000</td>\n",
              "      <td>1.000000</td>\n",
              "      <td>1056.000000</td>\n",
              "      <td>1075.000000</td>\n",
              "      <td>1073.000000</td>\n",
              "      <td>1091.000000</td>\n",
              "      <td>1073.000000</td>\n",
              "      <td>1076.000000</td>\n",
              "      <td>1077.000000</td>\n",
              "      <td>1093.000000</td>\n",
              "      <td>1081.000000</td>\n",
              "      <td>1064.000000</td>\n",
              "      <td>1090.000000</td>\n",
              "      <td>1078.000000</td>\n",
              "      <td>192.000000</td>\n",
              "      <td>2016.0</td>\n",
              "      <td>6.000000</td>\n",
              "      <td>15.000000</td>\n",
              "      <td>4.000000</td>\n",
              "      <td>11.000000</td>\n",
              "      <td>0.0</td>\n",
              "      <td>0.0</td>\n",
              "    </tr>\n",
              "    <tr>\n",
              "      <th>75%</th>\n",
              "      <td>66.000000</td>\n",
              "      <td>87.000000</td>\n",
              "      <td>1556.000000</td>\n",
              "      <td>2.000000</td>\n",
              "      <td>2.000000</td>\n",
              "      <td>1530.000000</td>\n",
              "      <td>1542.000000</td>\n",
              "      <td>1541.000000</td>\n",
              "      <td>1561.000000</td>\n",
              "      <td>1540.000000</td>\n",
              "      <td>1527.000000</td>\n",
              "      <td>1547.000000</td>\n",
              "      <td>1548.000000</td>\n",
              "      <td>1551.000000</td>\n",
              "      <td>1537.000000</td>\n",
              "      <td>1564.000000</td>\n",
              "      <td>1552.000000</td>\n",
              "      <td>314.000000</td>\n",
              "      <td>2016.0</td>\n",
              "      <td>9.000000</td>\n",
              "      <td>23.000000</td>\n",
              "      <td>6.000000</td>\n",
              "      <td>17.000000</td>\n",
              "      <td>0.0</td>\n",
              "      <td>0.0</td>\n",
              "    </tr>\n",
              "    <tr>\n",
              "      <th>max</th>\n",
              "      <td>78.000000</td>\n",
              "      <td>122.000000</td>\n",
              "      <td>2011.000000</td>\n",
              "      <td>3.000000</td>\n",
              "      <td>2.000000</td>\n",
              "      <td>2011.000000</td>\n",
              "      <td>2011.000000</td>\n",
              "      <td>2011.000000</td>\n",
              "      <td>2011.000000</td>\n",
              "      <td>2011.000000</td>\n",
              "      <td>2011.000000</td>\n",
              "      <td>2011.000000</td>\n",
              "      <td>2011.000000</td>\n",
              "      <td>2011.000000</td>\n",
              "      <td>2011.000000</td>\n",
              "      <td>2011.000000</td>\n",
              "      <td>2011.000000</td>\n",
              "      <td>597.000000</td>\n",
              "      <td>2016.0</td>\n",
              "      <td>11.000000</td>\n",
              "      <td>31.000000</td>\n",
              "      <td>7.000000</td>\n",
              "      <td>23.000000</td>\n",
              "      <td>0.0</td>\n",
              "      <td>0.0</td>\n",
              "    </tr>\n",
              "  </tbody>\n",
              "</table>\n",
              "</div>"
            ],
            "text/plain": [
              "       Temperature     Humidity     Measure1  ...         Hour  Minute  Second\n",
              "count  7905.000000  7905.000000  7905.000000  ...  7905.000000  7905.0  7905.0\n",
              "mean     64.031499    83.708412  1093.461354  ...    11.491461     0.0     0.0\n",
              "std       2.885008     4.824696   535.519165  ...     6.923853     0.0     0.0\n",
              "min       5.000000    65.000000   155.000000  ...     0.000000     0.0     0.0\n",
              "25%      62.000000    80.000000   633.000000  ...     5.000000     0.0     0.0\n",
              "50%      64.000000    84.000000  1099.000000  ...    11.000000     0.0     0.0\n",
              "75%      66.000000    87.000000  1556.000000  ...    17.000000     0.0     0.0\n",
              "max      78.000000   122.000000  2011.000000  ...    23.000000     0.0     0.0\n",
              "\n",
              "[8 rows x 25 columns]"
            ]
          },
          "metadata": {},
          "execution_count": 5
        }
      ]
    },
    {
      "cell_type": "code",
      "metadata": {
        "colab": {
          "base_uri": "https://localhost:8080/"
        },
        "id": "W9fUIrNSzJNS",
        "outputId": "5d53e00f-c4cf-4dc7-a00f-bd514cdabeb6"
      },
      "source": [
        "train.dtypes"
      ],
      "execution_count": 6,
      "outputs": [
        {
          "output_type": "execute_result",
          "data": {
            "text/plain": [
              "Date                object\n",
              "Temperature          int64\n",
              "Humidity             int64\n",
              "Operator            object\n",
              "Measure1             int64\n",
              "Measure2             int64\n",
              "Measure3             int64\n",
              "Measure4             int64\n",
              "Measure5             int64\n",
              "Measure6             int64\n",
              "Measure7             int64\n",
              "Measure8             int64\n",
              "Measure9             int64\n",
              "Measure10            int64\n",
              "Measure11            int64\n",
              "Measure12            int64\n",
              "Measure13            int64\n",
              "Measure14            int64\n",
              "Measure15            int64\n",
              "Hours_since_prev     int64\n",
              "Failure             object\n",
              "Year                 int64\n",
              "Month                int64\n",
              "Day                  int64\n",
              "Week                 int64\n",
              "Hour                 int64\n",
              "Minute               int64\n",
              "Second               int64\n",
              "dtype: object"
            ]
          },
          "metadata": {},
          "execution_count": 6
        }
      ]
    },
    {
      "cell_type": "code",
      "metadata": {
        "colab": {
          "base_uri": "https://localhost:8080/"
        },
        "id": "0j2zwz3zzQmI",
        "outputId": "2d0f9aa2-3d60-4016-928e-3c167ab4ddaa"
      },
      "source": [
        "train['Failure'].value_counts()"
      ],
      "execution_count": 7,
      "outputs": [
        {
          "output_type": "execute_result",
          "data": {
            "text/plain": [
              "No     7830\n",
              "Yes      75\n",
              "Name: Failure, dtype: int64"
            ]
          },
          "metadata": {},
          "execution_count": 7
        }
      ]
    },
    {
      "cell_type": "code",
      "metadata": {
        "id": "wFCz86mUzThj"
      },
      "source": [
        "train['Failure'] = train['Failure'].astype('category')\n",
        "train['Failure'] = train['Failure'].cat.codes\n"
      ],
      "execution_count": 8,
      "outputs": []
    },
    {
      "cell_type": "code",
      "metadata": {
        "colab": {
          "base_uri": "https://localhost:8080/"
        },
        "id": "SlEDHVkTzepG",
        "outputId": "faf18645-0d73-4663-f30c-87fb3be8ff7d"
      },
      "source": [
        "train.dtypes"
      ],
      "execution_count": 9,
      "outputs": [
        {
          "output_type": "execute_result",
          "data": {
            "text/plain": [
              "Date                object\n",
              "Temperature          int64\n",
              "Humidity             int64\n",
              "Operator            object\n",
              "Measure1             int64\n",
              "Measure2             int64\n",
              "Measure3             int64\n",
              "Measure4             int64\n",
              "Measure5             int64\n",
              "Measure6             int64\n",
              "Measure7             int64\n",
              "Measure8             int64\n",
              "Measure9             int64\n",
              "Measure10            int64\n",
              "Measure11            int64\n",
              "Measure12            int64\n",
              "Measure13            int64\n",
              "Measure14            int64\n",
              "Measure15            int64\n",
              "Hours_since_prev     int64\n",
              "Failure               int8\n",
              "Year                 int64\n",
              "Month                int64\n",
              "Day                  int64\n",
              "Week                 int64\n",
              "Hour                 int64\n",
              "Minute               int64\n",
              "Second               int64\n",
              "dtype: object"
            ]
          },
          "metadata": {},
          "execution_count": 9
        }
      ]
    },
    {
      "cell_type": "code",
      "metadata": {
        "colab": {
          "base_uri": "https://localhost:8080/"
        },
        "id": "kpeQNPpazopv",
        "outputId": "e95d4524-f572-4209-da0e-a9a87e4f841a"
      },
      "source": [
        "train['Failure'].value_counts()"
      ],
      "execution_count": 11,
      "outputs": [
        {
          "output_type": "execute_result",
          "data": {
            "text/plain": [
              "0    7830\n",
              "1      75\n",
              "Name: Failure, dtype: int64"
            ]
          },
          "metadata": {},
          "execution_count": 11
        }
      ]
    },
    {
      "cell_type": "code",
      "metadata": {
        "colab": {
          "base_uri": "https://localhost:8080/",
          "height": 296
        },
        "id": "rLh-xm_2zwEL",
        "outputId": "c955fbea-d792-43d1-fbf6-55c326344a4b"
      },
      "source": [
        "sns.boxplot(x=train['Measure1'])"
      ],
      "execution_count": 12,
      "outputs": [
        {
          "output_type": "execute_result",
          "data": {
            "text/plain": [
              "<matplotlib.axes._subplots.AxesSubplot at 0x7f17dbc2cf10>"
            ]
          },
          "metadata": {},
          "execution_count": 12
        },
        {
          "output_type": "display_data",
          "data": {
            "image/png": "[encoded data removed]",
            "text/plain": [
              "<Figure size 432x288 with 1 Axes>"
            ]
          },
          "metadata": {
            "needs_background": "light"
          }
        }
      ]
    },
    {
      "cell_type": "code",
      "metadata": {
        "colab": {
          "base_uri": "https://localhost:8080/",
          "height": 296
        },
        "id": "5pIp7nUiz7YX",
        "outputId": "17892270-5e40-415e-d9fb-07c0ccbe4619"
      },
      "source": [
        "sns.boxplot(x=train['Measure2'])"
      ],
      "execution_count": 13,
      "outputs": [
        {
          "output_type": "execute_result",
          "data": {
            "text/plain": [
              "<matplotlib.axes._subplots.AxesSubplot at 0x7f17db5a2cd0>"
            ]
          },
          "metadata": {},
          "execution_count": 13
        },
        {
          "output_type": "display_data",
          "data": {
            "image/png": "[encoded data removed]",
            "text/plain": [
              "<Figure size 432x288 with 1 Axes>"
            ]
          },
          "metadata": {
            "needs_background": "light"
          }
        }
      ]
    },
    {
      "cell_type": "code",
      "metadata": {
        "colab": {
          "base_uri": "https://localhost:8080/",
          "height": 470
        },
        "id": "2o_nkHPNz-u3",
        "outputId": "edb64c81-ee83-49d6-8efc-451c1ab8bbb6"
      },
      "source": [
        "\n",
        "train['Humidity'][train['Humidity']< 70] = 70\n",
        "train['Humidity'][train['Humidity']>95] = 95\n",
        "sns.boxplot(x=train['Humidity'])"
      ],
      "execution_count": 14,
      "outputs": [
        {
          "output_type": "stream",
          "name": "stderr",
          "text": [
            "/usr/local/lib/python3.7/dist-packages/ipykernel_launcher.py:2: SettingWithCopyWarning: \n",
            "A value is trying to be set on a copy of a slice from a DataFrame\n",
            "\n",
            "See the caveats in the documentation: https://pandas.pydata.org/pandas-docs/stable/user_guide/indexing.html#returning-a-view-versus-a-copy\n",
            "  \n",
            "/usr/local/lib/python3.7/dist-packages/ipykernel_launcher.py:3: SettingWithCopyWarning: \n",
            "A value is trying to be set on a copy of a slice from a DataFrame\n",
            "\n",
            "See the caveats in the documentation: https://pandas.pydata.org/pandas-docs/stable/user_guide/indexing.html#returning-a-view-versus-a-copy\n",
            "  This is separate from the ipykernel package so we can avoid doing imports until\n"
          ]
        },
        {
          "output_type": "execute_result",
          "data": {
            "text/plain": [
              "<matplotlib.axes._subplots.AxesSubplot at 0x7f17db559390>"
            ]
          },
          "metadata": {},
          "execution_count": 14
        },
        {
          "output_type": "display_data",
          "data": {
            "image/png": "[encoded data removed]",
            "text/plain": [
              "<Figure size 432x288 with 1 Axes>"
            ]
          },
          "metadata": {
            "needs_background": "light"
          }
        }
      ]
    },
    {
      "cell_type": "code",
      "metadata": {
        "colab": {
          "base_uri": "https://localhost:8080/",
          "height": 470
        },
        "id": "N1oxFkBF0Be8",
        "outputId": "a2d5870b-fa42-43e8-9adf-07e76acad5ba"
      },
      "source": [
        "train['Temperature'][train['Temperature']<60] = 60\n",
        "train['Temperature'][train['Temperature']>71.875] = 71.875\n",
        "sns.boxplot(x = train['Temperature'])"
      ],
      "execution_count": 15,
      "outputs": [
        {
          "output_type": "stream",
          "name": "stderr",
          "text": [
            "/usr/local/lib/python3.7/dist-packages/ipykernel_launcher.py:1: SettingWithCopyWarning: \n",
            "A value is trying to be set on a copy of a slice from a DataFrame\n",
            "\n",
            "See the caveats in the documentation: https://pandas.pydata.org/pandas-docs/stable/user_guide/indexing.html#returning-a-view-versus-a-copy\n",
            "  \"\"\"Entry point for launching an IPython kernel.\n",
            "/usr/local/lib/python3.7/dist-packages/ipykernel_launcher.py:2: SettingWithCopyWarning: \n",
            "A value is trying to be set on a copy of a slice from a DataFrame\n",
            "\n",
            "See the caveats in the documentation: https://pandas.pydata.org/pandas-docs/stable/user_guide/indexing.html#returning-a-view-versus-a-copy\n",
            "  \n"
          ]
        },
        {
          "output_type": "execute_result",
          "data": {
            "text/plain": [
              "<matplotlib.axes._subplots.AxesSubplot at 0x7f17db5a16d0>"
            ]
          },
          "metadata": {},
          "execution_count": 15
        },
        {
          "output_type": "display_data",
          "data": {
            "image/png": "[encoded data removed]",
            "text/plain": [
              "<Figure size 432x288 with 1 Axes>"
            ]
          },
          "metadata": {
            "needs_background": "light"
          }
        }
      ]
    },
    {
      "cell_type": "code",
      "metadata": {
        "colab": {
          "base_uri": "https://localhost:8080/",
          "height": 339
        },
        "id": "VYLMxHr90GG-",
        "outputId": "6ae720b6-9554-47a1-a046-bdea3f2b3a71"
      },
      "source": [
        "sns.heatmap(train.corr())"
      ],
      "execution_count": 16,
      "outputs": [
        {
          "output_type": "execute_result",
          "data": {
            "text/plain": [
              "<matplotlib.axes._subplots.AxesSubplot at 0x7f17da208e10>"
            ]
          },
          "metadata": {},
          "execution_count": 16
        },
        {
          "output_type": "display_data",
          "data": {
            "image/png": "[encoded data removed]",
            "text/plain": [
              "<Figure size 432x288 with 2 Axes>"
            ]
          },
          "metadata": {
            "needs_background": "light"
          }
        }
      ]
    },
    {
      "cell_type": "code",
      "metadata": {
        "id": "ve7uFTnx0Wlv"
      },
      "source": [
        "X = train[['Temperature', 'Humidity', 'Hours_since_prev', 'Year', 'Month', 'Day', 'Week']]\n",
        "y = train['Failure']\n",
        "from sklearn.model_selection import train_test_split\n",
        "X_train, X_test, y_train, y_test = train_test_split(X, y, test_size=0.7, random_state=101)"
      ],
      "execution_count": 17,
      "outputs": []
    },
    {
      "cell_type": "code",
      "metadata": {
        "id": "7Filg6fu0Zug"
      },
      "source": [
        "from sklearn.linear_model import LogisticRegression"
      ],
      "execution_count": 18,
      "outputs": []
    },
    {
      "cell_type": "code",
      "metadata": {
        "id": "_LZnqSeg0jjW"
      },
      "source": [
        "from sklearn.metrics import accuracy_score"
      ],
      "execution_count": 19,
      "outputs": []
    },
    {
      "cell_type": "code",
      "metadata": {
        "colab": {
          "base_uri": "https://localhost:8080/"
        },
        "id": "54HZu6Ry0lus",
        "outputId": "75e19dac-e812-4c75-e550-d64a93b0543b"
      },
      "source": [
        "\n",
        "model = LogisticRegression()\n",
        "model.fit(X_train, y_train)"
      ],
      "execution_count": 20,
      "outputs": [
        {
          "output_type": "execute_result",
          "data": {
            "text/plain": [
              "LogisticRegression(C=1.0, class_weight=None, dual=False, fit_intercept=True,\n",
              "                   intercept_scaling=1, l1_ratio=None, max_iter=100,\n",
              "                   multi_class='auto', n_jobs=None, penalty='l2',\n",
              "                   random_state=None, solver='lbfgs', tol=0.0001, verbose=0,\n",
              "                   warm_start=False)"
            ]
          },
          "metadata": {},
          "execution_count": 20
        }
      ]
    },
    {
      "cell_type": "code",
      "metadata": {
        "colab": {
          "base_uri": "https://localhost:8080/"
        },
        "id": "kO30SHqH0n4L",
        "outputId": "8ec8c116-2b6c-4b2f-dabf-c4160534b760"
      },
      "source": [
        "\n",
        "predicted_classes = model.predict(X_test)\n",
        "predicted_classes"
      ],
      "execution_count": 21,
      "outputs": [
        {
          "output_type": "execute_result",
          "data": {
            "text/plain": [
              "array([0, 0, 0, ..., 0, 0, 0], dtype=int8)"
            ]
          },
          "metadata": {},
          "execution_count": 21
        }
      ]
    },
    {
      "cell_type": "code",
      "metadata": {
        "id": "CzfJnHke0qyx"
      },
      "source": [
        "predictions = pd.Series(predicted_classes)"
      ],
      "execution_count": 22,
      "outputs": []
    },
    {
      "cell_type": "code",
      "metadata": {
        "id": "escZoLlt0ue_"
      },
      "source": [
        "parameters = model.coef_"
      ],
      "execution_count": 23,
      "outputs": []
    },
    {
      "cell_type": "code",
      "metadata": {
        "colab": {
          "base_uri": "https://localhost:8080/"
        },
        "id": "-FG_ajd00wlA",
        "outputId": "d5a4a984-98f1-4da1-d448-5346146a566c"
      },
      "source": [
        "print(parameters)"
      ],
      "execution_count": 24,
      "outputs": [
        {
          "output_type": "stream",
          "name": "stdout",
          "text": [
            "[[ 0.69549166 -0.37527331 -0.00465494 -0.01064639  0.28602946 -0.03670515\n",
            "   0.04351306]]\n"
          ]
        }
      ]
    },
    {
      "cell_type": "code",
      "metadata": {
        "id": "O6N6OksZ0zmn"
      },
      "source": [
        "from sklearn import metrics"
      ],
      "execution_count": 25,
      "outputs": []
    },
    {
      "cell_type": "code",
      "metadata": {
        "colab": {
          "base_uri": "https://localhost:8080/"
        },
        "id": "MM4DaTMX02oR",
        "outputId": "44f11661-afb6-4900-a1be-e26d5e76f3c4"
      },
      "source": [
        "print('MAE:', metrics.mean_absolute_error(y_test, predicted_classes))\n",
        "print('MSE:', metrics.mean_squared_error(y_test, predicted_classes))\n",
        "print('RMSE:', np.sqrt(metrics.mean_squared_error(y_test, predicted_classes)))"
      ],
      "execution_count": 26,
      "outputs": [
        {
          "output_type": "stream",
          "name": "stdout",
          "text": [
            "MAE: 0.003975424647632815\n",
            "MSE: 0.003975424647632815\n",
            "RMSE: 0.06305096864944118\n"
          ]
        }
      ]
    },
    {
      "cell_type": "code",
      "metadata": {
        "colab": {
          "base_uri": "https://localhost:8080/"
        },
        "id": "jEDK7NDr047I",
        "outputId": "4d776b51-f407-4826-84d3-72a681621468"
      },
      "source": [
        "train.to_csv"
      ],
      "execution_count": 27,
      "outputs": [
        {
          "output_type": "execute_result",
          "data": {
            "text/plain": [
              "<bound method NDFrame.to_csv of                   Date  Temperature  Humidity  ... Hour  Minute  Second\n",
              "ID                                             ...                     \n",
              "1     01-01-2016 00:00         67.0        82  ...    0       0       0\n",
              "2     01-01-2016 01:00         68.0        77  ...    1       0       0\n",
              "3     01-01-2016 02:00         64.0        76  ...    2       0       0\n",
              "4     01-01-2016 03:00         63.0        80  ...    3       0       0\n",
              "5     01-01-2016 04:00         65.0        81  ...    4       0       0\n",
              "...                ...          ...       ...  ...  ...     ...     ...\n",
              "7901  25-11-2016 04:00         60.0        81  ...    4       0       0\n",
              "7902  25-11-2016 05:00         63.0        81  ...    5       0       0\n",
              "7903  25-11-2016 06:00         60.0        83  ...    6       0       0\n",
              "7904  25-11-2016 07:00         63.0        80  ...    7       0       0\n",
              "7905  25-11-2016 08:00         67.0        77  ...    8       0       0\n",
              "\n",
              "[7905 rows x 28 columns]>"
            ]
          },
          "metadata": {},
          "execution_count": 27
        }
      ]
    },
    {
      "cell_type": "code",
      "metadata": {
        "id": "XzH9bRe909MC"
      },
      "source": [
        ""
      ],
      "execution_count": null,
      "outputs": []
    }
  ]
}